{
 "cells": [
  {
   "cell_type": "markdown",
   "metadata": {},
   "source": [
    "# Week 1: Getting Started With R in JupyterHub\n",
    "**Written by Professor Emily Klancher Merchant for STS 112, UC Davis, Winter 2019**\n",
    "## Introduction\n",
    "Welcome to JupyterHub! This is the platform we will be using for STS 112. JupyterHub facilitates what is called \"literate programming.\" Literate programming combines chunks of natural-language text (in this case, English), with chunks of executable code (in this case, R). In this class, we will be working with JuypyterHub notebooks, which have the file extension `.ipynb`. You will access your notebooks by logging into the JupyterHub server for the class from any web-enabled device. All of the data you will need is on the server, and you will save your work on the server as well. You can, however, export your notebooks, either in `.ipynb` format or in a variety of other file formats (`File -> Download as`). As you work through the notebooks for the class, you will notice new terms in **bold** the first time they appear.\n",
    "\n",
    "**Note:** If you find that you like working with Jupyter and want to install it on your own machine, you are in luck: Juptyter is free and open source, available as part of [Anaconda](https://anaconda.org/). However, the easiest way to work with R on your own machine is to download and install [R](https://cran.r-project.org/) and [RStudio](https://www.rstudio.com/), both of which are also free and open source. R also has its own version of notebooks, called [RMarkdown](https://rmarkdown.rstudio.com/).\n",
    "\n",
    "## Editing\n",
    "Each chunk of either text or code is called a **block**. The first thing you need to know how to do is edit a block. You can edit this one by double-clicking anywhere in it. Once you have done that, type some text below, and then hit `shift + return` (that is, hold down `shift` and hit `return`).\n",
    "\n"
   ]
  },
  {
   "cell_type": "markdown",
   "metadata": {},
   "source": [
    "What happened when you did that? First, you saw behind the scenes of the text block above. We will discuss that in a moment. Then, you edited the block by adding your own text. Finally, you **ran** the block by clicking `shift + return`. You can also run a block of text or code by clicking the `>|Run` button above. When you were editing that block, it was outlined in green. After you ran it, this block was selected, which you can tell because it is now outlined in blue. If you want to select a block without editing it, click on it once. You can add your own text block after this one. Make sure this block is selected, then click the `+` button above. Once you have done that, choose `Markdown` from the drop-down list. You can now type any text, and then run the block."
   ]
  },
  {
   "cell_type": "markdown",
   "metadata": {},
   "source": [
    "## What is Markdown?\n",
    "[Markdown](https://www.markdownguide.org/) is a simple markup language. When you edit any text block, you are editing in **markdown**. If you double-click in this block, you will see that I made the heading by typing two hashtags (one hashtag would give me a larger heading and three would give me a sm,aller one). I made a link to an excellent markdown resource using square brackets and parentheses. I made *this text italic* with a single asterisk at the beginning and the end, and I made **this text bold** with two asterisks at the beginning and the end. I made `this text look like code` by typing ``` (right under the escape key in the upper left of the keyboard) at the beginning and the end. Make a new text block below and try out your own markdown. Run your block to see the final result."
   ]
  },
  {
   "cell_type": "markdown",
   "metadata": {},
   "source": [
    "## Getting Started With R\n",
    "As you may have noticed, when you add a new block, it defaults to code. Our notebooks have what is called an **R kernel**, so when we write code, we will be using R, which is a high-level programming language typically used for statistics and data science. R is an **interpreted language**, which means that it is **executed** one line at a time. A code block that you write in a Jupyter notebook may be a single line or a series of lines.\n",
    "\n",
    "At its simplest, R is like a large calculator. You can see this by creating a new code block below, entering a mathematical expression, and running the block. When you do that, the R interpreter will execute your code, print the results (in this case the result of evaluating the mathematical expression) to the **console** (here the space under the code block), and move on to the next block."
   ]
  },
  {
   "cell_type": "code",
   "execution_count": 5,
   "metadata": {},
   "outputs": [
    {
     "data": {
      "text/html": [
       "4"
      ],
      "text/latex": [
       "4"
      ],
      "text/markdown": [
       "4"
      ],
      "text/plain": [
       "[1] 4"
      ]
     },
     "metadata": {},
     "output_type": "display_data"
    }
   ],
   "source": [
    "2 + 2"
   ]
  },
  {
   "cell_type": "markdown",
   "metadata": {},
   "source": [
    "What happens if you enter an incomplete mathematical expression?"
   ]
  },
  {
   "cell_type": "code",
   "execution_count": 6,
   "metadata": {},
   "outputs": [
    {
     "ename": "ERROR",
     "evalue": "Error in parse(text = x, srcfile = src): <text>:2:0: unexpected end of input\n1: 2 +\n   ^\n",
     "output_type": "error",
     "traceback": [
      "Error in parse(text = x, srcfile = src): <text>:2:0: unexpected end of input\n1: 2 +\n   ^\nTraceback:\n"
     ]
    }
   ],
   "source": [
    "2 +"
   ]
  },
  {
   "cell_type": "markdown",
   "metadata": {},
   "source": [
    "You may write text in a code block by prefacing it with `#`. The remainder of the line will not be interpreted. This is called a **comment**. What happens when you run the code block below?"
   ]
  },
  {
   "cell_type": "code",
   "execution_count": 4,
   "metadata": {},
   "outputs": [
    {
     "data": {
      "text/html": [
       "'This is not a comment.'"
      ],
      "text/latex": [
       "'This is not a comment.'"
      ],
      "text/markdown": [
       "'This is not a comment.'"
      ],
      "text/plain": [
       "[1] \"This is not a comment.\""
      ]
     },
     "metadata": {},
     "output_type": "display_data"
    }
   ],
   "source": [
    "#This is a comment.\n",
    "\"This is not a comment.\""
   ]
  },
  {
   "cell_type": "markdown",
   "metadata": {},
   "source": [
    "As you saw, nothing happens to the text that is **commented out**. The other line gets printed verbatim to the console. \n",
    "## Hello World\n",
    "Traditionally, the first thing one does when learning a new programming language is to write a program that prints the phrase \"hello world\" to the console. In R, that is exceptionally easy. Create a new code block below and write a line of code that prints \"hello world\" to the console."
   ]
  },
  {
   "cell_type": "code",
   "execution_count": 8,
   "metadata": {},
   "outputs": [
    {
     "data": {
      "text/html": [
       "'hello world'"
      ],
      "text/latex": [
       "'hello world'"
      ],
      "text/markdown": [
       "'hello world'"
      ],
      "text/plain": [
       "[1] \"hello world\""
      ]
     },
     "metadata": {},
     "output_type": "display_data"
    }
   ],
   "source": [
    "\"hello world\""
   ]
  },
  {
   "cell_type": "markdown",
   "metadata": {},
   "source": [
    "## Working With Variables\n",
    "The real power in programming comes from creating and manipulating **variable**. A variable is simply an **object** you have created that takes the value you assigned to it. Creating a variable is R is very simple. You simply type the name of the variable, the **assignment operator** (`<-`), and the value you want the variable to take. Run the code below."
   ]
  },
  {
   "cell_type": "code",
   "execution_count": 9,
   "metadata": {},
   "outputs": [],
   "source": [
    "a <- 5"
   ]
  },
  {
   "cell_type": "markdown",
   "metadata": {},
   "source": [
    "Notice that nothing was printed to the console. Nonetheless, R created a variable called `a` that is equal to 5. How do we know this? We can use the `ls()` **function** to list all of the objects in our **working environment**. Run the code below."
   ]
  },
  {
   "cell_type": "code",
   "execution_count": 27,
   "metadata": {},
   "outputs": [
    {
     "data": {
      "text/html": [
       "<ol class=list-inline>\n",
       "\t<li>'a'</li>\n",
       "\t<li>'b'</li>\n",
       "\t<li>'c'</li>\n",
       "\t<li>'variables'</li>\n",
       "</ol>\n"
      ],
      "text/latex": [
       "\\begin{enumerate*}\n",
       "\\item 'a'\n",
       "\\item 'b'\n",
       "\\item 'c'\n",
       "\\item 'variables'\n",
       "\\end{enumerate*}\n"
      ],
      "text/markdown": [
       "1. 'a'\n",
       "2. 'b'\n",
       "3. 'c'\n",
       "4. 'variables'\n",
       "\n",
       "\n"
      ],
      "text/plain": [
       "[1] \"a\"         \"b\"         \"c\"         \"variables\""
      ]
     },
     "metadata": {},
     "output_type": "display_data"
    }
   ],
   "source": [
    "ls()"
   ]
  },
  {
   "cell_type": "markdown",
   "metadata": {},
   "source": [
    "This tells us that we currently have one object in our working environment, and that it is called `a`. We can see the value of `a` by simply entering its name, as below."
   ]
  },
  {
   "cell_type": "code",
   "execution_count": 26,
   "metadata": {},
   "outputs": [
    {
     "data": {
      "text/html": [
       "5"
      ],
      "text/latex": [
       "5"
      ],
      "text/markdown": [
       "5"
      ],
      "text/plain": [
       "[1] 5"
      ]
     },
     "metadata": {},
     "output_type": "display_data"
    }
   ],
   "source": [
    "a"
   ]
  },
  {
   "cell_type": "markdown",
   "metadata": {},
   "source": [
    "The value of a variable does not need to be a number; it can also be a mathematical expression. Run the code below to make a new variable."
   ]
  },
  {
   "cell_type": "code",
   "execution_count": 19,
   "metadata": {},
   "outputs": [],
   "source": [
    "b <- 5 + 3"
   ]
  },
  {
   "cell_type": "markdown",
   "metadata": {},
   "source": [
    "What is the value of `b`?"
   ]
  },
  {
   "cell_type": "code",
   "execution_count": 22,
   "metadata": {},
   "outputs": [
    {
     "data": {
      "text/html": [
       "8"
      ],
      "text/latex": [
       "8"
      ],
      "text/markdown": [
       "8"
      ],
      "text/plain": [
       "[1] 8"
      ]
     },
     "metadata": {},
     "output_type": "display_data"
    }
   ],
   "source": [
    "b"
   ]
  },
  {
   "cell_type": "markdown",
   "metadata": {},
   "source": [
    "You can ask R to print the value of a variable as you create it by wrapping the whole expression in parentheses."
   ]
  },
  {
   "cell_type": "code",
   "execution_count": 23,
   "metadata": {},
   "outputs": [
    {
     "data": {
      "text/html": [
       "7"
      ],
      "text/latex": [
       "7"
      ],
      "text/markdown": [
       "7"
      ],
      "text/plain": [
       "[1] 7"
      ]
     },
     "metadata": {},
     "output_type": "display_data"
    }
   ],
   "source": [
    "(c <- 7)"
   ]
  },
  {
   "cell_type": "markdown",
   "metadata": {},
   "source": [
    "You can give a variable any name you want as long as it doesn't start with a number or include spaces or special characters. Let's clear out our working environment and create some new variables. You can clear the working environment with `rm(list = ls())`. Run the following code block."
   ]
  },
  {
   "cell_type": "code",
   "execution_count": 2,
   "metadata": {},
   "outputs": [],
   "source": [
    "rm(list = ls())\n",
    "a <- 3\n",
    "b4 <- 5\n",
    "cat <- a + b4 - 1"
   ]
  },
  {
   "cell_type": "markdown",
   "metadata": {},
   "source": [
    "Use the `ls()` function to see what variables are currently in their environment, then check their values."
   ]
  },
  {
   "cell_type": "code",
   "execution_count": 50,
   "metadata": {},
   "outputs": [
    {
     "data": {
      "text/html": [
       "<ol class=list-inline>\n",
       "\t<li>'a'</li>\n",
       "\t<li>'b4'</li>\n",
       "\t<li>'cat'</li>\n",
       "</ol>\n"
      ],
      "text/latex": [
       "\\begin{enumerate*}\n",
       "\\item 'a'\n",
       "\\item 'b4'\n",
       "\\item 'cat'\n",
       "\\end{enumerate*}\n"
      ],
      "text/markdown": [
       "1. 'a'\n",
       "2. 'b4'\n",
       "3. 'cat'\n",
       "\n",
       "\n"
      ],
      "text/plain": [
       "[1] \"a\"   \"b4\"  \"cat\""
      ]
     },
     "metadata": {},
     "output_type": "display_data"
    }
   ],
   "source": [
    "ls()"
   ]
  },
  {
   "cell_type": "markdown",
   "metadata": {},
   "source": [
    "Now that we have created these variables, we can use them in mathematical expressions or, as you have seen, to create new variables. You can change the value of a variable any time you want, simply by reassigning it. Run the code below to see an example."
   ]
  },
  {
   "cell_type": "code",
   "execution_count": 51,
   "metadata": {},
   "outputs": [
    {
     "data": {
      "text/html": [
       "9"
      ],
      "text/latex": [
       "9"
      ],
      "text/markdown": [
       "9"
      ],
      "text/plain": [
       "[1] 9"
      ]
     },
     "metadata": {},
     "output_type": "display_data"
    }
   ],
   "source": [
    "(a <- 9)"
   ]
  },
  {
   "cell_type": "markdown",
   "metadata": {},
   "source": [
    "Create a new variable called `dog` that is equal to 12."
   ]
  },
  {
   "cell_type": "code",
   "execution_count": 3,
   "metadata": {},
   "outputs": [],
   "source": [
    "dog <- 12"
   ]
  },
  {
   "cell_type": "markdown",
   "metadata": {},
   "source": [
    "As well as addition and subtraction, we can use variables in multiplication, division, and exponentiation:"
   ]
  },
  {
   "cell_type": "code",
   "execution_count": 53,
   "metadata": {},
   "outputs": [
    {
     "data": {
      "text/html": [
       "84"
      ],
      "text/latex": [
       "84"
      ],
      "text/markdown": [
       "84"
      ],
      "text/plain": [
       "[1] 84"
      ]
     },
     "metadata": {},
     "output_type": "display_data"
    },
    {
     "data": {
      "text/html": [
       "0.583333333333333"
      ],
      "text/latex": [
       "0.583333333333333"
      ],
      "text/markdown": [
       "0.583333333333333"
      ],
      "text/plain": [
       "[1] 0.5833333"
      ]
     },
     "metadata": {},
     "output_type": "display_data"
    },
    {
     "data": {
      "text/html": [
       "49"
      ],
      "text/latex": [
       "49"
      ],
      "text/markdown": [
       "49"
      ],
      "text/plain": [
       "[1] 49"
      ]
     },
     "metadata": {},
     "output_type": "display_data"
    },
    {
     "data": {
      "text/html": [
       "12"
      ],
      "text/latex": [
       "12"
      ],
      "text/markdown": [
       "12"
      ],
      "text/plain": [
       "[1] 12"
      ]
     },
     "metadata": {},
     "output_type": "display_data"
    }
   ],
   "source": [
    "cat*dog\n",
    "cat/dog\n",
    "cat**2\n",
    "dog/cat*cat"
   ]
  },
  {
   "cell_type": "markdown",
   "metadata": {},
   "source": [
    "You can also create variables whose value is a text string. The string must be wrapped in quotation marks, even if it is only a single word. Run the code below."
   ]
  },
  {
   "cell_type": "code",
   "execution_count": 5,
   "metadata": {},
   "outputs": [],
   "source": [
    "g <- \"coding is\"\n",
    "hi <- \"fun\""
   ]
  },
  {
   "cell_type": "markdown",
   "metadata": {},
   "source": [
    "We can combine text strings, but not with mathematical operators. Note that the following code does not work."
   ]
  },
  {
   "cell_type": "code",
   "execution_count": 55,
   "metadata": {},
   "outputs": [
    {
     "ename": "ERROR",
     "evalue": "Error in g + hi: non-numeric argument to binary operator\n",
     "output_type": "error",
     "traceback": [
      "Error in g + hi: non-numeric argument to binary operator\nTraceback:\n"
     ]
    }
   ],
   "source": [
    "g + hi"
   ]
  },
  {
   "cell_type": "markdown",
   "metadata": {},
   "source": [
    "To combine the two strings, we need to use the `paste()` function. As you may have noticed by now, functions are denoted with a set of parentheses. The text before the parentheses is the name of the function; the **arguments** to the function go inside the parentheses, separated bty commas. The `ls()` function did not take any arguments. The arguments to the `paste()` function are the strings that you want to combine. Run the code below to see how it works."
   ]
  },
  {
   "cell_type": "code",
   "execution_count": 58,
   "metadata": {},
   "outputs": [
    {
     "data": {
      "text/html": [
       "'coding is fun'"
      ],
      "text/latex": [
       "'coding is fun'"
      ],
      "text/markdown": [
       "'coding is fun'"
      ],
      "text/plain": [
       "[1] \"coding is fun\""
      ]
     },
     "metadata": {},
     "output_type": "display_data"
    }
   ],
   "source": [
    "paste(g, hi)"
   ]
  },
  {
   "cell_type": "markdown",
   "metadata": {},
   "source": [
    "The `paste()` function can take any number of arguments, and also has an optional final argument, which tells the function how to separate the strings you are combining. The default is a space, but you can make it anything with the `sep=` argument. Try running the examples below:"
   ]
  },
  {
   "cell_type": "code",
   "execution_count": 60,
   "metadata": {},
   "outputs": [
    {
     "data": {
      "text/html": [
       "'coding isfun'"
      ],
      "text/latex": [
       "'coding isfun'"
      ],
      "text/markdown": [
       "'coding isfun'"
      ],
      "text/plain": [
       "[1] \"coding isfun\""
      ]
     },
     "metadata": {},
     "output_type": "display_data"
    },
    {
     "data": {
      "text/html": [
       "'coding is,fun'"
      ],
      "text/latex": [
       "'coding is,fun'"
      ],
      "text/markdown": [
       "'coding is,fun'"
      ],
      "text/plain": [
       "[1] \"coding is,fun\""
      ]
     },
     "metadata": {},
     "output_type": "display_data"
    },
    {
     "data": {
      "text/html": [
       "'coding is not fun'"
      ],
      "text/latex": [
       "'coding is not fun'"
      ],
      "text/markdown": [
       "'coding is not fun'"
      ],
      "text/plain": [
       "[1] \"coding is not fun\""
      ]
     },
     "metadata": {},
     "output_type": "display_data"
    }
   ],
   "source": [
    "paste(g, hi, sep=\"\")\n",
    "paste(g, hi, sep=\",\")\n",
    "paste(g, hi, sep=\" not \")"
   ]
  },
  {
   "cell_type": "markdown",
   "metadata": {},
   "source": [
    "Note that R does not care whether the resulting expression is gramatically correct or true. Note also that you may need to use spaces around whatever you are using to separate your strings. There are many other [string functions](https://www.r-bloggers.com/string-functions-in-r/) you can use in R. Another one that we will try right now is the `toupper()` and `tolower()` functions, which change the case of your string. Since our strings are already in lower case, let's try `toupper()`."
   ]
  },
  {
   "cell_type": "code",
   "execution_count": 63,
   "metadata": {},
   "outputs": [
    {
     "data": {
      "text/html": [
       "'FUN'"
      ],
      "text/latex": [
       "'FUN'"
      ],
      "text/markdown": [
       "'FUN'"
      ],
      "text/plain": [
       "[1] \"FUN\""
      ]
     },
     "metadata": {},
     "output_type": "display_data"
    }
   ],
   "source": [
    "toupper(hi)"
   ]
  },
  {
   "cell_type": "markdown",
   "metadata": {},
   "source": [
    "We can also combine string functions."
   ]
  },
  {
   "cell_type": "code",
   "execution_count": 64,
   "metadata": {},
   "outputs": [
    {
     "data": {
      "text/html": [
       "'CODING IS FUN'"
      ],
      "text/latex": [
       "'CODING IS FUN'"
      ],
      "text/markdown": [
       "'CODING IS FUN'"
      ],
      "text/plain": [
       "[1] \"CODING IS FUN\""
      ]
     },
     "metadata": {},
     "output_type": "display_data"
    },
    {
     "data": {
      "text/html": [
       "'fun'"
      ],
      "text/latex": [
       "'fun'"
      ],
      "text/markdown": [
       "'fun'"
      ],
      "text/plain": [
       "[1] \"fun\""
      ]
     },
     "metadata": {},
     "output_type": "display_data"
    }
   ],
   "source": [
    "toupper(paste(g, hi))\n",
    "tolower(toupper(hi))"
   ]
  },
  {
   "cell_type": "markdown",
   "metadata": {},
   "source": [
    "Create a new code block below to make some of your own string variables and manipulate them with string functions."
   ]
  },
  {
   "cell_type": "markdown",
   "metadata": {},
   "source": [
    "## Data Types\n",
    "So far, we have made two different **types** of variables: numeric and string. If we ever want to know the type of a variable, we can use the `typeof()` function. Its argument is the variable in question, and it returns the type of the variable. Run the following code."
   ]
  },
  {
   "cell_type": "code",
   "execution_count": 65,
   "metadata": {},
   "outputs": [
    {
     "data": {
      "text/html": [
       "'double'"
      ],
      "text/latex": [
       "'double'"
      ],
      "text/markdown": [
       "'double'"
      ],
      "text/plain": [
       "[1] \"double\""
      ]
     },
     "metadata": {},
     "output_type": "display_data"
    },
    {
     "data": {
      "text/html": [
       "'character'"
      ],
      "text/latex": [
       "'character'"
      ],
      "text/markdown": [
       "'character'"
      ],
      "text/plain": [
       "[1] \"character\""
      ]
     },
     "metadata": {},
     "output_type": "display_data"
    }
   ],
   "source": [
    "typeof(a)\n",
    "typeof(g)"
   ]
  },
  {
   "cell_type": "markdown",
   "metadata": {},
   "source": [
    "These types indicate how R is storing the data contained in the variables: **double** refers to a number that can have decimals; **character** refers to a text string. Run the following code block."
   ]
  },
  {
   "cell_type": "code",
   "execution_count": 71,
   "metadata": {},
   "outputs": [
    {
     "data": {
      "text/html": [
       "'12'"
      ],
      "text/latex": [
       "'12'"
      ],
      "text/markdown": [
       "'12'"
      ],
      "text/plain": [
       "[1] \"12\""
      ]
     },
     "metadata": {},
     "output_type": "display_data"
    },
    {
     "data": {
      "text/html": [
       "'character'"
      ],
      "text/latex": [
       "'character'"
      ],
      "text/markdown": [
       "'character'"
      ],
      "text/plain": [
       "[1] \"character\""
      ]
     },
     "metadata": {},
     "output_type": "display_data"
    }
   ],
   "source": [
    "(twelve <- \"12\")\n",
    "typeof(twelve)"
   ]
  },
  {
   "cell_type": "markdown",
   "metadata": {},
   "source": [
    "Explain what is happening above."
   ]
  },
  {
   "cell_type": "markdown",
   "metadata": {},
   "source": [
    "Since the variable `twelve` looks like a number, can we convert it to one? Yes!"
   ]
  },
  {
   "cell_type": "code",
   "execution_count": 74,
   "metadata": {},
   "outputs": [
    {
     "data": {
      "text/html": [
       "12"
      ],
      "text/latex": [
       "12"
      ],
      "text/markdown": [
       "12"
      ],
      "text/plain": [
       "[1] 12"
      ]
     },
     "metadata": {},
     "output_type": "display_data"
    },
    {
     "data": {
      "text/html": [
       "'double'"
      ],
      "text/latex": [
       "'double'"
      ],
      "text/markdown": [
       "'double'"
      ],
      "text/plain": [
       "[1] \"double\""
      ]
     },
     "metadata": {},
     "output_type": "display_data"
    }
   ],
   "source": [
    "as.numeric(twelve)\n",
    "typeof(as.numeric(twelve))"
   ]
  },
  {
   "cell_type": "markdown",
   "metadata": {},
   "source": [
    "Note that we did not change the type of the variable `twelve`, we only expressed it as a number. We could have changed it by reassigning the variable like this: `twelve <- as.numeric(twelve)`. Numeric variables can be converted to character variables (using either the `as.numeric()` function or the `toString()` function), but character variables can't be converted to numeric variables unless they consist only of digits or mathematical expressions."
   ]
  },
  {
   "cell_type": "code",
   "execution_count": 83,
   "metadata": {},
   "outputs": [
    {
     "data": {
      "text/html": [
       "10"
      ],
      "text/latex": [
       "10"
      ],
      "text/markdown": [
       "10"
      ],
      "text/plain": [
       "[1] 10"
      ]
     },
     "metadata": {},
     "output_type": "display_data"
    },
    {
     "data": {
      "text/html": [
       "'double'"
      ],
      "text/latex": [
       "'double'"
      ],
      "text/markdown": [
       "'double'"
      ],
      "text/plain": [
       "[1] \"double\""
      ]
     },
     "metadata": {},
     "output_type": "display_data"
    },
    {
     "data": {
      "text/html": [
       "'10'"
      ],
      "text/latex": [
       "'10'"
      ],
      "text/markdown": [
       "'10'"
      ],
      "text/plain": [
       "[1] \"10\""
      ]
     },
     "metadata": {},
     "output_type": "display_data"
    },
    {
     "data": {
      "text/html": [
       "'character'"
      ],
      "text/latex": [
       "'character'"
      ],
      "text/markdown": [
       "'character'"
      ],
      "text/plain": [
       "[1] \"character\""
      ]
     },
     "metadata": {},
     "output_type": "display_data"
    },
    {
     "data": {
      "text/html": [
       "10"
      ],
      "text/latex": [
       "10"
      ],
      "text/markdown": [
       "10"
      ],
      "text/plain": [
       "[1] 10"
      ]
     },
     "metadata": {},
     "output_type": "display_data"
    },
    {
     "data": {
      "text/html": [
       "'double'"
      ],
      "text/latex": [
       "'double'"
      ],
      "text/markdown": [
       "'double'"
      ],
      "text/plain": [
       "[1] \"double\""
      ]
     },
     "metadata": {},
     "output_type": "display_data"
    }
   ],
   "source": [
    "(ten <- 10)\n",
    "typeof(ten)\n",
    "(ten <- as.character(ten))\n",
    "typeof(ten)\n",
    "(ten <- as.numeric(ten))\n",
    "typeof(ten)"
   ]
  },
  {
   "cell_type": "markdown",
   "metadata": {},
   "source": [
    "Explain what happened here. How could we have known the type of variable `ten` without using the `typeof()` function?"
   ]
  },
  {
   "cell_type": "markdown",
   "metadata": {},
   "source": [
    "There is one more data type that we will cover at this point, called **logical**. A logical variable can take one of two values: `TRUE` or `FALSE`. Run the code below to see this in action."
   ]
  },
  {
   "cell_type": "code",
   "execution_count": 79,
   "metadata": {},
   "outputs": [
    {
     "data": {
      "text/html": [
       "TRUE"
      ],
      "text/latex": [
       "TRUE"
      ],
      "text/markdown": [
       "TRUE"
      ],
      "text/plain": [
       "[1] TRUE"
      ]
     },
     "metadata": {},
     "output_type": "display_data"
    },
    {
     "data": {
      "text/html": [
       "FALSE"
      ],
      "text/latex": [
       "FALSE"
      ],
      "text/markdown": [
       "FALSE"
      ],
      "text/plain": [
       "[1] FALSE"
      ]
     },
     "metadata": {},
     "output_type": "display_data"
    },
    {
     "data": {
      "text/html": [
       "'logical'"
      ],
      "text/latex": [
       "'logical'"
      ],
      "text/markdown": [
       "'logical'"
      ],
      "text/plain": [
       "[1] \"logical\""
      ]
     },
     "metadata": {},
     "output_type": "display_data"
    },
    {
     "data": {
      "text/html": [
       "'logical'"
      ],
      "text/latex": [
       "'logical'"
      ],
      "text/markdown": [
       "'logical'"
      ],
      "text/plain": [
       "[1] \"logical\""
      ]
     },
     "metadata": {},
     "output_type": "display_data"
    }
   ],
   "source": [
    "newvariable <- 2 == 5 - 3\n",
    "anothernewvariable <- 2 != 5 - 3\n",
    "newvariable\n",
    "anothernewvariable\n",
    "typeof(newvariable)\n",
    "typeof(anothernewvariable)"
   ]
  },
  {
   "cell_type": "markdown",
   "metadata": {},
   "source": [
    "The logical data type is created with **Boolean** operators. These are equal `==`, not equal `!=`, less than `<`, less than or equal to `<=`, greater than `>`, and greater than or equal to `>=`."
   ]
  },
  {
   "cell_type": "markdown",
   "metadata": {},
   "source": [
    "## Vectors and Lists\n",
    "You can combine variables into vectors with the `c()` function, and those vectors can also be saved as variables. All vectors in a function must be of the same type. So we can have a vector of doubles, a vector of characters, or a vector of logcials. If you run the `typeof()` function on a vector, R will return the data type of the vector's elements. As you see below, the variable `vec_a` is a vector containing the numeric variables `a`, `b4`, `cat`, and `dog`. The variable `vec_b` is a vector containing the character variables `g` and `hi`."
   ]
  },
  {
   "cell_type": "code",
   "execution_count": 8,
   "metadata": {},
   "outputs": [
    {
     "data": {
      "text/html": [
       "<ol class=list-inline>\n",
       "\t<li>3</li>\n",
       "\t<li>5</li>\n",
       "\t<li>7</li>\n",
       "\t<li>12</li>\n",
       "</ol>\n"
      ],
      "text/latex": [
       "\\begin{enumerate*}\n",
       "\\item 3\n",
       "\\item 5\n",
       "\\item 7\n",
       "\\item 12\n",
       "\\end{enumerate*}\n"
      ],
      "text/markdown": [
       "1. 3\n",
       "2. 5\n",
       "3. 7\n",
       "4. 12\n",
       "\n",
       "\n"
      ],
      "text/plain": [
       "[1]  3  5  7 12"
      ]
     },
     "metadata": {},
     "output_type": "display_data"
    },
    {
     "data": {
      "text/html": [
       "<ol class=list-inline>\n",
       "\t<li>'coding is'</li>\n",
       "\t<li>'fun'</li>\n",
       "</ol>\n"
      ],
      "text/latex": [
       "\\begin{enumerate*}\n",
       "\\item 'coding is'\n",
       "\\item 'fun'\n",
       "\\end{enumerate*}\n"
      ],
      "text/markdown": [
       "1. 'coding is'\n",
       "2. 'fun'\n",
       "\n",
       "\n"
      ],
      "text/plain": [
       "[1] \"coding is\" \"fun\"      "
      ]
     },
     "metadata": {},
     "output_type": "display_data"
    },
    {
     "data": {
      "text/html": [
       "'double'"
      ],
      "text/latex": [
       "'double'"
      ],
      "text/markdown": [
       "'double'"
      ],
      "text/plain": [
       "[1] \"double\""
      ]
     },
     "metadata": {},
     "output_type": "display_data"
    },
    {
     "data": {
      "text/html": [
       "'character'"
      ],
      "text/latex": [
       "'character'"
      ],
      "text/markdown": [
       "'character'"
      ],
      "text/plain": [
       "[1] \"character\""
      ]
     },
     "metadata": {},
     "output_type": "display_data"
    }
   ],
   "source": [
    "(vec_a <- c(a, b4, cat, dog))\n",
    "(vec_b <- c(g, hi))\n",
    "typeof(vec_a)\n",
    "typeof(vec_b)"
   ]
  },
  {
   "cell_type": "markdown",
   "metadata": {},
   "source": [
    "You can do mathematical operations on numeric vectors. This will be important later."
   ]
  },
  {
   "cell_type": "code",
   "execution_count": 72,
   "metadata": {},
   "outputs": [
    {
     "data": {
      "text/html": [
       "<ol class=list-inline>\n",
       "\t<li>6</li>\n",
       "\t<li>10</li>\n",
       "\t<li>14</li>\n",
       "\t<li>24</li>\n",
       "</ol>\n"
      ],
      "text/latex": [
       "\\begin{enumerate*}\n",
       "\\item 6\n",
       "\\item 10\n",
       "\\item 14\n",
       "\\item 24\n",
       "\\end{enumerate*}\n"
      ],
      "text/markdown": [
       "1. 6\n",
       "2. 10\n",
       "3. 14\n",
       "4. 24\n",
       "\n",
       "\n"
      ],
      "text/plain": [
       "[1]  6 10 14 24"
      ]
     },
     "metadata": {},
     "output_type": "display_data"
    },
    {
     "data": {
      "text/html": [
       "<ol class=list-inline>\n",
       "\t<li>2</li>\n",
       "\t<li>4</li>\n",
       "\t<li>6</li>\n",
       "\t<li>11</li>\n",
       "</ol>\n"
      ],
      "text/latex": [
       "\\begin{enumerate*}\n",
       "\\item 2\n",
       "\\item 4\n",
       "\\item 6\n",
       "\\item 11\n",
       "\\end{enumerate*}\n"
      ],
      "text/markdown": [
       "1. 2\n",
       "2. 4\n",
       "3. 6\n",
       "4. 11\n",
       "\n",
       "\n"
      ],
      "text/plain": [
       "[1]  2  4  6 11"
      ]
     },
     "metadata": {},
     "output_type": "display_data"
    },
    {
     "data": {
      "text/html": [
       "27"
      ],
      "text/latex": [
       "27"
      ],
      "text/markdown": [
       "27"
      ],
      "text/plain": [
       "[1] 27"
      ]
     },
     "metadata": {},
     "output_type": "display_data"
    }
   ],
   "source": [
    "vec_a * 2\n",
    "vec_a - 1\n",
    "sum(vec_a)"
   ]
  },
  {
   "cell_type": "markdown",
   "metadata": {},
   "source": [
    "You can reference any element of a vector using the name of the vector variable followed by the element number in square brackets."
   ]
  },
  {
   "cell_type": "code",
   "execution_count": 9,
   "metadata": {},
   "outputs": [
    {
     "data": {
      "text/html": [
       "5"
      ],
      "text/latex": [
       "5"
      ],
      "text/markdown": [
       "5"
      ],
      "text/plain": [
       "[1] 5"
      ]
     },
     "metadata": {},
     "output_type": "display_data"
    }
   ],
   "source": [
    "vec_a[2]"
   ]
  },
  {
   "cell_type": "markdown",
   "metadata": {},
   "source": [
    "You can also use the `paste()` function to combine elements of a vector, but with the `collapse` argument rather than the `sep` argument. If you use this function on a numeric vector, R will turn the elements into characters before combining them."
   ]
  },
  {
   "cell_type": "code",
   "execution_count": 16,
   "metadata": {},
   "outputs": [
    {
     "data": {
      "text/html": [
       "'coding is fun'"
      ],
      "text/latex": [
       "'coding is fun'"
      ],
      "text/markdown": [
       "'coding is fun'"
      ],
      "text/plain": [
       "[1] \"coding is fun\""
      ]
     },
     "metadata": {},
     "output_type": "display_data"
    },
    {
     "data": {
      "text/html": [
       "'3 5 7 12'"
      ],
      "text/latex": [
       "'3 5 7 12'"
      ],
      "text/markdown": [
       "'3 5 7 12'"
      ],
      "text/plain": [
       "[1] \"3 5 7 12\""
      ]
     },
     "metadata": {},
     "output_type": "display_data"
    }
   ],
   "source": [
    "paste(vec_b, collapse=\" \")\n",
    "paste(vec_a, collapse=\" \")"
   ]
  },
  {
   "cell_type": "markdown",
   "metadata": {},
   "source": [
    "If you try to create a vector where some elements are numbers and some are characters, R will turn all of them into characters."
   ]
  },
  {
   "cell_type": "code",
   "execution_count": 24,
   "metadata": {},
   "outputs": [
    {
     "data": {
      "text/html": [
       "<ol class=list-inline>\n",
       "\t<li>'1'</li>\n",
       "\t<li>'2'</li>\n",
       "\t<li>'fifteen'</li>\n",
       "\t<li>'twenty'</li>\n",
       "</ol>\n"
      ],
      "text/latex": [
       "\\begin{enumerate*}\n",
       "\\item '1'\n",
       "\\item '2'\n",
       "\\item 'fifteen'\n",
       "\\item 'twenty'\n",
       "\\end{enumerate*}\n"
      ],
      "text/markdown": [
       "1. '1'\n",
       "2. '2'\n",
       "3. 'fifteen'\n",
       "4. 'twenty'\n",
       "\n",
       "\n"
      ],
      "text/plain": [
       "[1] \"1\"       \"2\"       \"fifteen\" \"twenty\" "
      ]
     },
     "metadata": {},
     "output_type": "display_data"
    },
    {
     "data": {
      "text/html": [
       "'character'"
      ],
      "text/latex": [
       "'character'"
      ],
      "text/markdown": [
       "'character'"
      ],
      "text/plain": [
       "[1] \"character\""
      ]
     },
     "metadata": {},
     "output_type": "display_data"
    }
   ],
   "source": [
    "(vec_c <- c(1, 2, \"fifteen\", \"twenty\"))\n",
    "typeof(vec_c)"
   ]
  },
  {
   "cell_type": "markdown",
   "metadata": {},
   "source": [
    "Note that we created vec_c from numbers and words, not from variables we had already made. If we want to combine different types of data and preserve their original types, we can make a list with the `list()` function. A list is another data type."
   ]
  },
  {
   "cell_type": "code",
   "execution_count": 25,
   "metadata": {},
   "outputs": [
    {
     "data": {
      "text/html": [
       "<ol>\n",
       "\t<li>3</li>\n",
       "\t<li>5</li>\n",
       "\t<li>'coding is'</li>\n",
       "</ol>\n"
      ],
      "text/latex": [
       "\\begin{enumerate}\n",
       "\\item 3\n",
       "\\item 5\n",
       "\\item 'coding is'\n",
       "\\end{enumerate}\n"
      ],
      "text/markdown": [
       "1. 3\n",
       "2. 5\n",
       "3. 'coding is'\n",
       "\n",
       "\n"
      ],
      "text/plain": [
       "[[1]]\n",
       "[1] 3\n",
       "\n",
       "[[2]]\n",
       "[1] 5\n",
       "\n",
       "[[3]]\n",
       "[1] \"coding is\"\n"
      ]
     },
     "metadata": {},
     "output_type": "display_data"
    },
    {
     "data": {
      "text/html": [
       "'list'"
      ],
      "text/latex": [
       "'list'"
      ],
      "text/markdown": [
       "'list'"
      ],
      "text/plain": [
       "[1] \"list\""
      ]
     },
     "metadata": {},
     "output_type": "display_data"
    }
   ],
   "source": [
    "(list_a <- list(a, b4, g))\n",
    "typeof(list_a)"
   ]
  },
  {
   "cell_type": "markdown",
   "metadata": {},
   "source": [
    "We can reference any element of a list with the name of the list variable and the number of the element in double square brackets."
   ]
  },
  {
   "cell_type": "code",
   "execution_count": 31,
   "metadata": {},
   "outputs": [
    {
     "data": {
      "text/html": [
       "'coding is'"
      ],
      "text/latex": [
       "'coding is'"
      ],
      "text/markdown": [
       "'coding is'"
      ],
      "text/plain": [
       "[1] \"coding is\""
      ]
     },
     "metadata": {},
     "output_type": "display_data"
    },
    {
     "data": {
      "text/html": [
       "'character'"
      ],
      "text/latex": [
       "'character'"
      ],
      "text/markdown": [
       "'character'"
      ],
      "text/plain": [
       "[1] \"character\""
      ]
     },
     "metadata": {},
     "output_type": "display_data"
    }
   ],
   "source": [
    "list_a[[3]]\n",
    "typeof(list_a[[3]])"
   ]
  },
  {
   "cell_type": "markdown",
   "metadata": {},
   "source": [
    "Lists can also contain vectors and other lists."
   ]
  },
  {
   "cell_type": "code",
   "execution_count": 36,
   "metadata": {},
   "outputs": [
    {
     "data": {
      "text/html": [
       "<ol>\n",
       "\t<li>1</li>\n",
       "\t<li>3</li>\n",
       "\t<li><ol>\n",
       "\t<li>3</li>\n",
       "\t<li>5</li>\n",
       "\t<li>'coding is'</li>\n",
       "</ol>\n",
       "</li>\n",
       "\t<li><ol class=list-inline>\n",
       "\t<li>'coding is'</li>\n",
       "\t<li>'fun'</li>\n",
       "</ol>\n",
       "</li>\n",
       "\t<li>2</li>\n",
       "\t<li><ol class=list-inline>\n",
       "\t<li>3</li>\n",
       "\t<li>5</li>\n",
       "\t<li>7</li>\n",
       "\t<li>12</li>\n",
       "</ol>\n",
       "</li>\n",
       "</ol>\n"
      ],
      "text/latex": [
       "\\begin{enumerate}\n",
       "\\item 1\n",
       "\\item 3\n",
       "\\item \\begin{enumerate}\n",
       "\\item 3\n",
       "\\item 5\n",
       "\\item 'coding is'\n",
       "\\end{enumerate}\n",
       "\n",
       "\\item \\begin{enumerate*}\n",
       "\\item 'coding is'\n",
       "\\item 'fun'\n",
       "\\end{enumerate*}\n",
       "\n",
       "\\item 2\n",
       "\\item \\begin{enumerate*}\n",
       "\\item 3\n",
       "\\item 5\n",
       "\\item 7\n",
       "\\item 12\n",
       "\\end{enumerate*}\n",
       "\n",
       "\\end{enumerate}\n"
      ],
      "text/markdown": [
       "1. 1\n",
       "2. 3\n",
       "3. 1. 3\n",
       "2. 5\n",
       "3. 'coding is'\n",
       "\n",
       "\n",
       "\n",
       "4. 1. 'coding is'\n",
       "2. 'fun'\n",
       "\n",
       "\n",
       "\n",
       "5. 2\n",
       "6. 1. 3\n",
       "2. 5\n",
       "3. 7\n",
       "4. 12\n",
       "\n",
       "\n",
       "\n",
       "\n",
       "\n"
      ],
      "text/plain": [
       "[[1]]\n",
       "[1] 1\n",
       "\n",
       "[[2]]\n",
       "[1] 3\n",
       "\n",
       "[[3]]\n",
       "[[3]][[1]]\n",
       "[1] 3\n",
       "\n",
       "[[3]][[2]]\n",
       "[1] 5\n",
       "\n",
       "[[3]][[3]]\n",
       "[1] \"coding is\"\n",
       "\n",
       "\n",
       "[[4]]\n",
       "[1] \"coding is\" \"fun\"      \n",
       "\n",
       "[[5]]\n",
       "[1] 2\n",
       "\n",
       "[[6]]\n",
       "[1]  3  5  7 12\n"
      ]
     },
     "metadata": {},
     "output_type": "display_data"
    },
    {
     "data": {
      "text/html": [
       "'list'"
      ],
      "text/latex": [
       "'list'"
      ],
      "text/markdown": [
       "'list'"
      ],
      "text/plain": [
       "[1] \"list\""
      ]
     },
     "metadata": {},
     "output_type": "display_data"
    },
    {
     "data": {
      "text/html": [
       "'double'"
      ],
      "text/latex": [
       "'double'"
      ],
      "text/markdown": [
       "'double'"
      ],
      "text/plain": [
       "[1] \"double\""
      ]
     },
     "metadata": {},
     "output_type": "display_data"
    },
    {
     "data": {
      "text/html": [
       "5"
      ],
      "text/latex": [
       "5"
      ],
      "text/markdown": [
       "5"
      ],
      "text/plain": [
       "[1] 5"
      ]
     },
     "metadata": {},
     "output_type": "display_data"
    }
   ],
   "source": [
    "(list_b <- list(1, 3, list_a, vec_b, 2, vec_a))\n",
    "typeof(list_b[[3]])\n",
    "typeof(list_b[[6]])\n",
    "list_b[[3]][[2]]"
   ]
  },
  {
   "cell_type": "markdown",
   "metadata": {},
   "source": [
    "## Data Frames\n",
    "The data type we will be working with most in this class is the data frame. A data frame is an array of vectors where each vector has the same number of elements. The vectors that comprise the data frame can be numeric, character, or some of each. \n",
    "\n",
    "To understand data frames, imagine you are running a day care center for pets. You take dogs, cats, and rabbits. The following code makes a series of vectors: `days` lists the days of the week; `dogs` lists the number of dogs you cared for on each day of the week (`dogs[1]` is the number of dogs you had on Monday, `dogs[2]` is the number of dogs you had on Tuesday, etc.); `cats` lists the number of cats you cared for each day; `rabbits` lists the number of rabbits you cared for each day."
   ]
  },
  {
   "cell_type": "code",
   "execution_count": 55,
   "metadata": {},
   "outputs": [],
   "source": [
    "days <- c(\"Monday\", \"Tuesday\", \"Wednesday\", \"Thursday\", \"Friday\")\n",
    "dogs <- c(4, 3, 4, 2, 4)\n",
    "cats <- c(1, 2, 1, 1, 2)\n",
    "rabbits <- c(0, 1, 1, 0, 1)"
   ]
  },
  {
   "cell_type": "markdown",
   "metadata": {},
   "source": [
    "We can now use the `data.frame()` function to convert these vectors into a data frame called `pets`."
   ]
  },
  {
   "cell_type": "code",
   "execution_count": 74,
   "metadata": {},
   "outputs": [],
   "source": [
    "pets <- data.frame(days, dogs, cats, rabbits)"
   ]
  },
  {
   "cell_type": "markdown",
   "metadata": {},
   "source": [
    "Since this is a small data frame, we can view it directly, the same way we would view any other variable."
   ]
  },
  {
   "cell_type": "code",
   "execution_count": 59,
   "metadata": {},
   "outputs": [
    {
     "data": {
      "text/html": [
       "<table>\n",
       "<thead><tr><th scope=col>days</th><th scope=col>dogs</th><th scope=col>cats</th><th scope=col>rabbits</th></tr></thead>\n",
       "<tbody>\n",
       "\t<tr><td>Monday   </td><td>4        </td><td>1        </td><td>0        </td></tr>\n",
       "\t<tr><td>Tuesday  </td><td>3        </td><td>2        </td><td>1        </td></tr>\n",
       "\t<tr><td>Wednesday</td><td>4        </td><td>1        </td><td>1        </td></tr>\n",
       "\t<tr><td>Thursday </td><td>2        </td><td>1        </td><td>0        </td></tr>\n",
       "\t<tr><td>Friday   </td><td>4        </td><td>2        </td><td>1        </td></tr>\n",
       "</tbody>\n",
       "</table>\n"
      ],
      "text/latex": [
       "\\begin{tabular}{r|llll}\n",
       " days & dogs & cats & rabbits\\\\\n",
       "\\hline\n",
       "\t Monday    & 4         & 1         & 0        \\\\\n",
       "\t Tuesday   & 3         & 2         & 1        \\\\\n",
       "\t Wednesday & 4         & 1         & 1        \\\\\n",
       "\t Thursday  & 2         & 1         & 0        \\\\\n",
       "\t Friday    & 4         & 2         & 1        \\\\\n",
       "\\end{tabular}\n"
      ],
      "text/markdown": [
       "\n",
       "days | dogs | cats | rabbits | \n",
       "|---|---|---|---|---|\n",
       "| Monday    | 4         | 1         | 0         | \n",
       "| Tuesday   | 3         | 2         | 1         | \n",
       "| Wednesday | 4         | 1         | 1         | \n",
       "| Thursday  | 2         | 1         | 0         | \n",
       "| Friday    | 4         | 2         | 1         | \n",
       "\n",
       "\n"
      ],
      "text/plain": [
       "  days      dogs cats rabbits\n",
       "1 Monday    4    1    0      \n",
       "2 Tuesday   3    2    1      \n",
       "3 Wednesday 4    1    1      \n",
       "4 Thursday  2    1    0      \n",
       "5 Friday    4    2    1      "
      ]
     },
     "metadata": {},
     "output_type": "display_data"
    }
   ],
   "source": [
    "pets"
   ]
  },
  {
   "cell_type": "markdown",
   "metadata": {},
   "source": [
    "Note that the names of the vectors that comprise the data frame are now the names of the columns in the data frame. There are numerous ways of accessing the data in a data frame. You can reference a single value: `pets[2,3]` references the second row, third column, which is the number of cats on Tuesday (2). You can reference a whole column in two different ways: `pets$cats` and `pets[,3]` will both give you the `cats` vector. You can also reference whole rows: `pets[2,]` will give you the row for Tuesday. You can reference a subset of rows or columns: `pets[,2:4]` will give you columns 2-4 (`dogs`, `cats`, `rabbits`); `pets[,2:4]` will give you rows 2-4 (Tuesday, Wednesday, Thursday). You can see the column names with the `names()` function."
   ]
  },
  {
   "cell_type": "code",
   "execution_count": 77,
   "metadata": {},
   "outputs": [
    {
     "data": {
      "text/html": [
       "2"
      ],
      "text/latex": [
       "2"
      ],
      "text/markdown": [
       "2"
      ],
      "text/plain": [
       "[1] 2"
      ]
     },
     "metadata": {},
     "output_type": "display_data"
    },
    {
     "data": {
      "text/html": [
       "<ol class=list-inline>\n",
       "\t<li>1</li>\n",
       "\t<li>2</li>\n",
       "\t<li>1</li>\n",
       "\t<li>1</li>\n",
       "\t<li>2</li>\n",
       "</ol>\n"
      ],
      "text/latex": [
       "\\begin{enumerate*}\n",
       "\\item 1\n",
       "\\item 2\n",
       "\\item 1\n",
       "\\item 1\n",
       "\\item 2\n",
       "\\end{enumerate*}\n"
      ],
      "text/markdown": [
       "1. 1\n",
       "2. 2\n",
       "3. 1\n",
       "4. 1\n",
       "5. 2\n",
       "\n",
       "\n"
      ],
      "text/plain": [
       "[1] 1 2 1 1 2"
      ]
     },
     "metadata": {},
     "output_type": "display_data"
    },
    {
     "data": {
      "text/html": [
       "<ol class=list-inline>\n",
       "\t<li>1</li>\n",
       "\t<li>2</li>\n",
       "\t<li>1</li>\n",
       "\t<li>1</li>\n",
       "\t<li>2</li>\n",
       "</ol>\n"
      ],
      "text/latex": [
       "\\begin{enumerate*}\n",
       "\\item 1\n",
       "\\item 2\n",
       "\\item 1\n",
       "\\item 1\n",
       "\\item 2\n",
       "\\end{enumerate*}\n"
      ],
      "text/markdown": [
       "1. 1\n",
       "2. 2\n",
       "3. 1\n",
       "4. 1\n",
       "5. 2\n",
       "\n",
       "\n"
      ],
      "text/plain": [
       "[1] 1 2 1 1 2"
      ]
     },
     "metadata": {},
     "output_type": "display_data"
    },
    {
     "data": {
      "text/html": [
       "<table>\n",
       "<thead><tr><th></th><th scope=col>days</th><th scope=col>dogs</th><th scope=col>cats</th><th scope=col>rabbits</th><th scope=col>total</th></tr></thead>\n",
       "<tbody>\n",
       "\t<tr><th scope=row>2</th><td>Tuesday</td><td>3      </td><td>2      </td><td>1      </td><td>6      </td></tr>\n",
       "</tbody>\n",
       "</table>\n"
      ],
      "text/latex": [
       "\\begin{tabular}{r|lllll}\n",
       "  & days & dogs & cats & rabbits & total\\\\\n",
       "\\hline\n",
       "\t2 & Tuesday & 3       & 2       & 1       & 6      \\\\\n",
       "\\end{tabular}\n"
      ],
      "text/markdown": [
       "\n",
       "| <!--/--> | days | dogs | cats | rabbits | total | \n",
       "|---|\n",
       "| 2 | Tuesday | 3       | 2       | 1       | 6       | \n",
       "\n",
       "\n"
      ],
      "text/plain": [
       "  days    dogs cats rabbits total\n",
       "2 Tuesday 3    2    1       6    "
      ]
     },
     "metadata": {},
     "output_type": "display_data"
    },
    {
     "data": {
      "text/html": [
       "<table>\n",
       "<thead><tr><th scope=col>dogs</th><th scope=col>cats</th><th scope=col>rabbits</th></tr></thead>\n",
       "<tbody>\n",
       "\t<tr><td>4</td><td>1</td><td>0</td></tr>\n",
       "\t<tr><td>3</td><td>2</td><td>1</td></tr>\n",
       "\t<tr><td>4</td><td>1</td><td>1</td></tr>\n",
       "\t<tr><td>2</td><td>1</td><td>0</td></tr>\n",
       "\t<tr><td>4</td><td>2</td><td>1</td></tr>\n",
       "</tbody>\n",
       "</table>\n"
      ],
      "text/latex": [
       "\\begin{tabular}{r|lll}\n",
       " dogs & cats & rabbits\\\\\n",
       "\\hline\n",
       "\t 4 & 1 & 0\\\\\n",
       "\t 3 & 2 & 1\\\\\n",
       "\t 4 & 1 & 1\\\\\n",
       "\t 2 & 1 & 0\\\\\n",
       "\t 4 & 2 & 1\\\\\n",
       "\\end{tabular}\n"
      ],
      "text/markdown": [
       "\n",
       "dogs | cats | rabbits | \n",
       "|---|---|---|---|---|\n",
       "| 4 | 1 | 0 | \n",
       "| 3 | 2 | 1 | \n",
       "| 4 | 1 | 1 | \n",
       "| 2 | 1 | 0 | \n",
       "| 4 | 2 | 1 | \n",
       "\n",
       "\n"
      ],
      "text/plain": [
       "  dogs cats rabbits\n",
       "1 4    1    0      \n",
       "2 3    2    1      \n",
       "3 4    1    1      \n",
       "4 2    1    0      \n",
       "5 4    2    1      "
      ]
     },
     "metadata": {},
     "output_type": "display_data"
    },
    {
     "data": {
      "text/html": [
       "<table>\n",
       "<thead><tr><th></th><th scope=col>days</th><th scope=col>dogs</th><th scope=col>cats</th><th scope=col>rabbits</th><th scope=col>total</th></tr></thead>\n",
       "<tbody>\n",
       "\t<tr><th scope=row>2</th><td>Tuesday  </td><td>3        </td><td>2        </td><td>1        </td><td>6        </td></tr>\n",
       "\t<tr><th scope=row>3</th><td>Wednesday</td><td>4        </td><td>1        </td><td>1        </td><td>6        </td></tr>\n",
       "\t<tr><th scope=row>4</th><td>Thursday </td><td>2        </td><td>1        </td><td>0        </td><td>3        </td></tr>\n",
       "</tbody>\n",
       "</table>\n"
      ],
      "text/latex": [
       "\\begin{tabular}{r|lllll}\n",
       "  & days & dogs & cats & rabbits & total\\\\\n",
       "\\hline\n",
       "\t2 & Tuesday   & 3         & 2         & 1         & 6        \\\\\n",
       "\t3 & Wednesday & 4         & 1         & 1         & 6        \\\\\n",
       "\t4 & Thursday  & 2         & 1         & 0         & 3        \\\\\n",
       "\\end{tabular}\n"
      ],
      "text/markdown": [
       "\n",
       "| <!--/--> | days | dogs | cats | rabbits | total | \n",
       "|---|---|---|\n",
       "| 2 | Tuesday   | 3         | 2         | 1         | 6         | \n",
       "| 3 | Wednesday | 4         | 1         | 1         | 6         | \n",
       "| 4 | Thursday  | 2         | 1         | 0         | 3         | \n",
       "\n",
       "\n"
      ],
      "text/plain": [
       "  days      dogs cats rabbits total\n",
       "2 Tuesday   3    2    1       6    \n",
       "3 Wednesday 4    1    1       6    \n",
       "4 Thursday  2    1    0       3    "
      ]
     },
     "metadata": {},
     "output_type": "display_data"
    },
    {
     "data": {
      "text/html": [
       "<ol class=list-inline>\n",
       "\t<li>'days'</li>\n",
       "\t<li>'dogs'</li>\n",
       "\t<li>'cats'</li>\n",
       "\t<li>'rabbits'</li>\n",
       "\t<li>'total'</li>\n",
       "</ol>\n"
      ],
      "text/latex": [
       "\\begin{enumerate*}\n",
       "\\item 'days'\n",
       "\\item 'dogs'\n",
       "\\item 'cats'\n",
       "\\item 'rabbits'\n",
       "\\item 'total'\n",
       "\\end{enumerate*}\n"
      ],
      "text/markdown": [
       "1. 'days'\n",
       "2. 'dogs'\n",
       "3. 'cats'\n",
       "4. 'rabbits'\n",
       "5. 'total'\n",
       "\n",
       "\n"
      ],
      "text/plain": [
       "[1] \"days\"    \"dogs\"    \"cats\"    \"rabbits\" \"total\"  "
      ]
     },
     "metadata": {},
     "output_type": "display_data"
    }
   ],
   "source": [
    "pets[2,3]\n",
    "pets$cats\n",
    "pets[,3]\n",
    "pets[2,]\n",
    "pets[,2:4]\n",
    "pets[2:4,]\n",
    "names(pets)"
   ]
  },
  {
   "cell_type": "markdown",
   "metadata": {},
   "source": [
    "We can also create new columns in the data frame. For example, say we wanted a new column indicating the total number of animals on each day. We do it as if we were making a new variable, but using the `dataframe$column` notation."
   ]
  },
  {
   "cell_type": "code",
   "execution_count": 76,
   "metadata": {},
   "outputs": [
    {
     "data": {
      "text/html": [
       "<table>\n",
       "<thead><tr><th scope=col>days</th><th scope=col>dogs</th><th scope=col>cats</th><th scope=col>rabbits</th><th scope=col>total</th></tr></thead>\n",
       "<tbody>\n",
       "\t<tr><td>Monday   </td><td>4        </td><td>1        </td><td>0        </td><td>5        </td></tr>\n",
       "\t<tr><td>Tuesday  </td><td>3        </td><td>2        </td><td>1        </td><td>6        </td></tr>\n",
       "\t<tr><td>Wednesday</td><td>4        </td><td>1        </td><td>1        </td><td>6        </td></tr>\n",
       "\t<tr><td>Thursday </td><td>2        </td><td>1        </td><td>0        </td><td>3        </td></tr>\n",
       "\t<tr><td>Friday   </td><td>4        </td><td>2        </td><td>1        </td><td>7        </td></tr>\n",
       "</tbody>\n",
       "</table>\n"
      ],
      "text/latex": [
       "\\begin{tabular}{r|lllll}\n",
       " days & dogs & cats & rabbits & total\\\\\n",
       "\\hline\n",
       "\t Monday    & 4         & 1         & 0         & 5        \\\\\n",
       "\t Tuesday   & 3         & 2         & 1         & 6        \\\\\n",
       "\t Wednesday & 4         & 1         & 1         & 6        \\\\\n",
       "\t Thursday  & 2         & 1         & 0         & 3        \\\\\n",
       "\t Friday    & 4         & 2         & 1         & 7        \\\\\n",
       "\\end{tabular}\n"
      ],
      "text/markdown": [
       "\n",
       "days | dogs | cats | rabbits | total | \n",
       "|---|---|---|---|---|\n",
       "| Monday    | 4         | 1         | 0         | 5         | \n",
       "| Tuesday   | 3         | 2         | 1         | 6         | \n",
       "| Wednesday | 4         | 1         | 1         | 6         | \n",
       "| Thursday  | 2         | 1         | 0         | 3         | \n",
       "| Friday    | 4         | 2         | 1         | 7         | \n",
       "\n",
       "\n"
      ],
      "text/plain": [
       "  days      dogs cats rabbits total\n",
       "1 Monday    4    1    0       5    \n",
       "2 Tuesday   3    2    1       6    \n",
       "3 Wednesday 4    1    1       6    \n",
       "4 Thursday  2    1    0       3    \n",
       "5 Friday    4    2    1       7    "
      ]
     },
     "metadata": {},
     "output_type": "display_data"
    }
   ],
   "source": [
    "pets$total <- pets$dogs + pets$cats + pets$rabbits\n",
    "pets"
   ]
  },
  {
   "cell_type": "markdown",
   "metadata": {},
   "source": [
    "Now let's make another data frame. This one will have one row per customer per day the customer brought in animals. Columns will list customer's name, day of the week, number of dogs, number of cats, and number of rabbits."
   ]
  },
  {
   "cell_type": "code",
   "execution_count": 100,
   "metadata": {},
   "outputs": [
    {
     "data": {
      "text/html": [
       "<table>\n",
       "<thead><tr><th scope=col>name</th><th scope=col>day</th><th scope=col>dogs</th><th scope=col>cats</th><th scope=col>rabbits</th></tr></thead>\n",
       "<tbody>\n",
       "\t<tr><td>Al       </td><td>Monday   </td><td>2        </td><td>1        </td><td>0        </td></tr>\n",
       "\t<tr><td>Bob      </td><td>Monday   </td><td>2        </td><td>0        </td><td>0        </td></tr>\n",
       "\t<tr><td>Al       </td><td>Tuesday  </td><td>2        </td><td>1        </td><td>0        </td></tr>\n",
       "\t<tr><td>Carmen   </td><td>Tuesday  </td><td>1        </td><td>0        </td><td>0        </td></tr>\n",
       "\t<tr><td>Dana     </td><td>Tuesday  </td><td>0        </td><td>1        </td><td>1        </td></tr>\n",
       "\t<tr><td>Al       </td><td>Wednesday</td><td>2        </td><td>1        </td><td>0        </td></tr>\n",
       "\t<tr><td>Bob      </td><td>Wednesday</td><td>2        </td><td>0        </td><td>0        </td></tr>\n",
       "\t<tr><td>Dana     </td><td>Wednesday</td><td>0        </td><td>0        </td><td>1        </td></tr>\n",
       "\t<tr><td>Al       </td><td>Thursday </td><td>2        </td><td>1        </td><td>0        </td></tr>\n",
       "\t<tr><td>Al       </td><td>Friday   </td><td>2        </td><td>1        </td><td>0        </td></tr>\n",
       "\t<tr><td>Bob      </td><td>Friday   </td><td>2        </td><td>0        </td><td>0        </td></tr>\n",
       "\t<tr><td>Dana     </td><td>Friday   </td><td>0        </td><td>1        </td><td>0        </td></tr>\n",
       "\t<tr><td>Evelyn   </td><td>Friday   </td><td>0        </td><td>0        </td><td>1        </td></tr>\n",
       "</tbody>\n",
       "</table>\n"
      ],
      "text/latex": [
       "\\begin{tabular}{r|lllll}\n",
       " name & day & dogs & cats & rabbits\\\\\n",
       "\\hline\n",
       "\t Al        & Monday    & 2         & 1         & 0        \\\\\n",
       "\t Bob       & Monday    & 2         & 0         & 0        \\\\\n",
       "\t Al        & Tuesday   & 2         & 1         & 0        \\\\\n",
       "\t Carmen    & Tuesday   & 1         & 0         & 0        \\\\\n",
       "\t Dana      & Tuesday   & 0         & 1         & 1        \\\\\n",
       "\t Al        & Wednesday & 2         & 1         & 0        \\\\\n",
       "\t Bob       & Wednesday & 2         & 0         & 0        \\\\\n",
       "\t Dana      & Wednesday & 0         & 0         & 1        \\\\\n",
       "\t Al        & Thursday  & 2         & 1         & 0        \\\\\n",
       "\t Al        & Friday    & 2         & 1         & 0        \\\\\n",
       "\t Bob       & Friday    & 2         & 0         & 0        \\\\\n",
       "\t Dana      & Friday    & 0         & 1         & 0        \\\\\n",
       "\t Evelyn    & Friday    & 0         & 0         & 1        \\\\\n",
       "\\end{tabular}\n"
      ],
      "text/markdown": [
       "\n",
       "name | day | dogs | cats | rabbits | \n",
       "|---|---|---|---|---|---|---|---|---|---|---|---|---|\n",
       "| Al        | Monday    | 2         | 1         | 0         | \n",
       "| Bob       | Monday    | 2         | 0         | 0         | \n",
       "| Al        | Tuesday   | 2         | 1         | 0         | \n",
       "| Carmen    | Tuesday   | 1         | 0         | 0         | \n",
       "| Dana      | Tuesday   | 0         | 1         | 1         | \n",
       "| Al        | Wednesday | 2         | 1         | 0         | \n",
       "| Bob       | Wednesday | 2         | 0         | 0         | \n",
       "| Dana      | Wednesday | 0         | 0         | 1         | \n",
       "| Al        | Thursday  | 2         | 1         | 0         | \n",
       "| Al        | Friday    | 2         | 1         | 0         | \n",
       "| Bob       | Friday    | 2         | 0         | 0         | \n",
       "| Dana      | Friday    | 0         | 1         | 0         | \n",
       "| Evelyn    | Friday    | 0         | 0         | 1         | \n",
       "\n",
       "\n"
      ],
      "text/plain": [
       "   name   day       dogs cats rabbits\n",
       "1  Al     Monday    2    1    0      \n",
       "2  Bob    Monday    2    0    0      \n",
       "3  Al     Tuesday   2    1    0      \n",
       "4  Carmen Tuesday   1    0    0      \n",
       "5  Dana   Tuesday   0    1    1      \n",
       "6  Al     Wednesday 2    1    0      \n",
       "7  Bob    Wednesday 2    0    0      \n",
       "8  Dana   Wednesday 0    0    1      \n",
       "9  Al     Thursday  2    1    0      \n",
       "10 Al     Friday    2    1    0      \n",
       "11 Bob    Friday    2    0    0      \n",
       "12 Dana   Friday    0    1    0      \n",
       "13 Evelyn Friday    0    0    1      "
      ]
     },
     "metadata": {},
     "output_type": "display_data"
    }
   ],
   "source": [
    "name <- c(\"Al\", \"Bob\", \"Al\", \"Carmen\", \"Dana\", \"Al\", \"Bob\", \"Dana\", \"Al\", \"Al\", \"Bob\", \"Dana\", \"Evelyn\")\n",
    "day <- c(\"Monday\", \"Monday\", \"Tuesday\", \"Tuesday\", \"Tuesday\", \"Wednesday\", \"Wednesday\", \"Wednesday\", \"Thursday\", \"Friday\", \"Friday\", \"Friday\", \"Friday\")\n",
    "dogs <- c(2, 2, 2, 1, 0, 2, 2, 0, 2, 2, 2, 0, 0)\n",
    "cats <- c(1, 0, 1, 0, 1, 1, 0, 0, 1, 1, 0, 1, 0)\n",
    "rabbits <- c(0, 0, 0, 0, 1, 0, 0, 1, 0, 0, 0, 0, 1)\n",
    "customers <- data.frame(name, day, dogs, cats, rabbits)\n",
    "customers"
   ]
  },
  {
   "cell_type": "markdown",
   "metadata": {},
   "source": [
    "Now let's calculate how much we are going to bill each customer on each day. We charge `$20` per day for dogs, `$15` for cats, and `$5` for rabbits. Customers who bring in two animals get `10%` off the total and customers who bring in three or more animals get `20%` off the total."
   ]
  },
  {
   "cell_type": "code",
   "execution_count": 102,
   "metadata": {},
   "outputs": [
    {
     "data": {
      "text/html": [
       "<table>\n",
       "<thead><tr><th scope=col>name</th><th scope=col>day</th><th scope=col>dogs</th><th scope=col>cats</th><th scope=col>rabbits</th><th scope=col>bill</th></tr></thead>\n",
       "<tbody>\n",
       "\t<tr><td>Al       </td><td>Monday   </td><td>2        </td><td>1        </td><td>0        </td><td>55       </td></tr>\n",
       "\t<tr><td>Bob      </td><td>Monday   </td><td>2        </td><td>0        </td><td>0        </td><td>40       </td></tr>\n",
       "\t<tr><td>Al       </td><td>Tuesday  </td><td>2        </td><td>1        </td><td>0        </td><td>55       </td></tr>\n",
       "\t<tr><td>Carmen   </td><td>Tuesday  </td><td>1        </td><td>0        </td><td>0        </td><td>20       </td></tr>\n",
       "\t<tr><td>Dana     </td><td>Tuesday  </td><td>0        </td><td>1        </td><td>1        </td><td>20       </td></tr>\n",
       "\t<tr><td>Al       </td><td>Wednesday</td><td>2        </td><td>1        </td><td>0        </td><td>55       </td></tr>\n",
       "\t<tr><td>Bob      </td><td>Wednesday</td><td>2        </td><td>0        </td><td>0        </td><td>40       </td></tr>\n",
       "\t<tr><td>Dana     </td><td>Wednesday</td><td>0        </td><td>0        </td><td>1        </td><td> 5       </td></tr>\n",
       "\t<tr><td>Al       </td><td>Thursday </td><td>2        </td><td>1        </td><td>0        </td><td>55       </td></tr>\n",
       "\t<tr><td>Al       </td><td>Friday   </td><td>2        </td><td>1        </td><td>0        </td><td>55       </td></tr>\n",
       "\t<tr><td>Bob      </td><td>Friday   </td><td>2        </td><td>0        </td><td>0        </td><td>40       </td></tr>\n",
       "\t<tr><td>Dana     </td><td>Friday   </td><td>0        </td><td>1        </td><td>0        </td><td>15       </td></tr>\n",
       "\t<tr><td>Evelyn   </td><td>Friday   </td><td>0        </td><td>0        </td><td>1        </td><td> 5       </td></tr>\n",
       "</tbody>\n",
       "</table>\n"
      ],
      "text/latex": [
       "\\begin{tabular}{r|llllll}\n",
       " name & day & dogs & cats & rabbits & bill\\\\\n",
       "\\hline\n",
       "\t Al        & Monday    & 2         & 1         & 0         & 55       \\\\\n",
       "\t Bob       & Monday    & 2         & 0         & 0         & 40       \\\\\n",
       "\t Al        & Tuesday   & 2         & 1         & 0         & 55       \\\\\n",
       "\t Carmen    & Tuesday   & 1         & 0         & 0         & 20       \\\\\n",
       "\t Dana      & Tuesday   & 0         & 1         & 1         & 20       \\\\\n",
       "\t Al        & Wednesday & 2         & 1         & 0         & 55       \\\\\n",
       "\t Bob       & Wednesday & 2         & 0         & 0         & 40       \\\\\n",
       "\t Dana      & Wednesday & 0         & 0         & 1         &  5       \\\\\n",
       "\t Al        & Thursday  & 2         & 1         & 0         & 55       \\\\\n",
       "\t Al        & Friday    & 2         & 1         & 0         & 55       \\\\\n",
       "\t Bob       & Friday    & 2         & 0         & 0         & 40       \\\\\n",
       "\t Dana      & Friday    & 0         & 1         & 0         & 15       \\\\\n",
       "\t Evelyn    & Friday    & 0         & 0         & 1         &  5       \\\\\n",
       "\\end{tabular}\n"
      ],
      "text/markdown": [
       "\n",
       "name | day | dogs | cats | rabbits | bill | \n",
       "|---|---|---|---|---|---|---|---|---|---|---|---|---|\n",
       "| Al        | Monday    | 2         | 1         | 0         | 55        | \n",
       "| Bob       | Monday    | 2         | 0         | 0         | 40        | \n",
       "| Al        | Tuesday   | 2         | 1         | 0         | 55        | \n",
       "| Carmen    | Tuesday   | 1         | 0         | 0         | 20        | \n",
       "| Dana      | Tuesday   | 0         | 1         | 1         | 20        | \n",
       "| Al        | Wednesday | 2         | 1         | 0         | 55        | \n",
       "| Bob       | Wednesday | 2         | 0         | 0         | 40        | \n",
       "| Dana      | Wednesday | 0         | 0         | 1         |  5        | \n",
       "| Al        | Thursday  | 2         | 1         | 0         | 55        | \n",
       "| Al        | Friday    | 2         | 1         | 0         | 55        | \n",
       "| Bob       | Friday    | 2         | 0         | 0         | 40        | \n",
       "| Dana      | Friday    | 0         | 1         | 0         | 15        | \n",
       "| Evelyn    | Friday    | 0         | 0         | 1         |  5        | \n",
       "\n",
       "\n"
      ],
      "text/plain": [
       "   name   day       dogs cats rabbits bill\n",
       "1  Al     Monday    2    1    0       55  \n",
       "2  Bob    Monday    2    0    0       40  \n",
       "3  Al     Tuesday   2    1    0       55  \n",
       "4  Carmen Tuesday   1    0    0       20  \n",
       "5  Dana   Tuesday   0    1    1       20  \n",
       "6  Al     Wednesday 2    1    0       55  \n",
       "7  Bob    Wednesday 2    0    0       40  \n",
       "8  Dana   Wednesday 0    0    1        5  \n",
       "9  Al     Thursday  2    1    0       55  \n",
       "10 Al     Friday    2    1    0       55  \n",
       "11 Bob    Friday    2    0    0       40  \n",
       "12 Dana   Friday    0    1    0       15  \n",
       "13 Evelyn Friday    0    0    1        5  "
      ]
     },
     "metadata": {},
     "output_type": "display_data"
    }
   ],
   "source": [
    "customers$bill <- customers$dogs * 20 + customers$cats * 15 + customers$rabbits * 5\n",
    "customers"
   ]
  },
  {
   "cell_type": "markdown",
   "metadata": {},
   "source": [
    "At the end of the week, Al and Bob complain that they are spending too much on day care for their pets. You want to keep their business and you don't want their animals to be home alone all day, so you consider implementing a discount: 10% off each day a person brings in two pets and 15% off each day a person brings in three or more pets."
   ]
  },
  {
   "cell_type": "code",
   "execution_count": 106,
   "metadata": {},
   "outputs": [],
   "source": [
    "customers$newbill <- ifelse(customers$cats + customers$dogs + customers$rabbits > 2, customers$bill * 0.9,\n",
    "            ifelse(customers$cats + customers$dogs + customers$rabbits > 1, customers$bill *0.85, customers$bill))"
   ]
  },
  {
   "cell_type": "code",
   "execution_count": 107,
   "metadata": {},
   "outputs": [
    {
     "data": {
      "text/html": [
       "<table>\n",
       "<thead><tr><th scope=col>name</th><th scope=col>day</th><th scope=col>dogs</th><th scope=col>cats</th><th scope=col>rabbits</th><th scope=col>bill</th><th scope=col>newbill</th></tr></thead>\n",
       "<tbody>\n",
       "\t<tr><td>Al       </td><td>Monday   </td><td>2        </td><td>1        </td><td>0        </td><td>55       </td><td>49.5     </td></tr>\n",
       "\t<tr><td>Bob      </td><td>Monday   </td><td>2        </td><td>0        </td><td>0        </td><td>40       </td><td>34.0     </td></tr>\n",
       "\t<tr><td>Al       </td><td>Tuesday  </td><td>2        </td><td>1        </td><td>0        </td><td>55       </td><td>49.5     </td></tr>\n",
       "\t<tr><td>Carmen   </td><td>Tuesday  </td><td>1        </td><td>0        </td><td>0        </td><td>20       </td><td>20.0     </td></tr>\n",
       "\t<tr><td>Dana     </td><td>Tuesday  </td><td>0        </td><td>1        </td><td>1        </td><td>20       </td><td>17.0     </td></tr>\n",
       "\t<tr><td>Al       </td><td>Wednesday</td><td>2        </td><td>1        </td><td>0        </td><td>55       </td><td>49.5     </td></tr>\n",
       "\t<tr><td>Bob      </td><td>Wednesday</td><td>2        </td><td>0        </td><td>0        </td><td>40       </td><td>34.0     </td></tr>\n",
       "\t<tr><td>Dana     </td><td>Wednesday</td><td>0        </td><td>0        </td><td>1        </td><td> 5       </td><td> 5.0     </td></tr>\n",
       "\t<tr><td>Al       </td><td>Thursday </td><td>2        </td><td>1        </td><td>0        </td><td>55       </td><td>49.5     </td></tr>\n",
       "\t<tr><td>Al       </td><td>Friday   </td><td>2        </td><td>1        </td><td>0        </td><td>55       </td><td>49.5     </td></tr>\n",
       "\t<tr><td>Bob      </td><td>Friday   </td><td>2        </td><td>0        </td><td>0        </td><td>40       </td><td>34.0     </td></tr>\n",
       "\t<tr><td>Dana     </td><td>Friday   </td><td>0        </td><td>1        </td><td>0        </td><td>15       </td><td>15.0     </td></tr>\n",
       "\t<tr><td>Evelyn   </td><td>Friday   </td><td>0        </td><td>0        </td><td>1        </td><td> 5       </td><td> 5.0     </td></tr>\n",
       "</tbody>\n",
       "</table>\n"
      ],
      "text/latex": [
       "\\begin{tabular}{r|lllllll}\n",
       " name & day & dogs & cats & rabbits & bill & newbill\\\\\n",
       "\\hline\n",
       "\t Al        & Monday    & 2         & 1         & 0         & 55        & 49.5     \\\\\n",
       "\t Bob       & Monday    & 2         & 0         & 0         & 40        & 34.0     \\\\\n",
       "\t Al        & Tuesday   & 2         & 1         & 0         & 55        & 49.5     \\\\\n",
       "\t Carmen    & Tuesday   & 1         & 0         & 0         & 20        & 20.0     \\\\\n",
       "\t Dana      & Tuesday   & 0         & 1         & 1         & 20        & 17.0     \\\\\n",
       "\t Al        & Wednesday & 2         & 1         & 0         & 55        & 49.5     \\\\\n",
       "\t Bob       & Wednesday & 2         & 0         & 0         & 40        & 34.0     \\\\\n",
       "\t Dana      & Wednesday & 0         & 0         & 1         &  5        &  5.0     \\\\\n",
       "\t Al        & Thursday  & 2         & 1         & 0         & 55        & 49.5     \\\\\n",
       "\t Al        & Friday    & 2         & 1         & 0         & 55        & 49.5     \\\\\n",
       "\t Bob       & Friday    & 2         & 0         & 0         & 40        & 34.0     \\\\\n",
       "\t Dana      & Friday    & 0         & 1         & 0         & 15        & 15.0     \\\\\n",
       "\t Evelyn    & Friday    & 0         & 0         & 1         &  5        &  5.0     \\\\\n",
       "\\end{tabular}\n"
      ],
      "text/markdown": [
       "\n",
       "name | day | dogs | cats | rabbits | bill | newbill | \n",
       "|---|---|---|---|---|---|---|---|---|---|---|---|---|\n",
       "| Al        | Monday    | 2         | 1         | 0         | 55        | 49.5      | \n",
       "| Bob       | Monday    | 2         | 0         | 0         | 40        | 34.0      | \n",
       "| Al        | Tuesday   | 2         | 1         | 0         | 55        | 49.5      | \n",
       "| Carmen    | Tuesday   | 1         | 0         | 0         | 20        | 20.0      | \n",
       "| Dana      | Tuesday   | 0         | 1         | 1         | 20        | 17.0      | \n",
       "| Al        | Wednesday | 2         | 1         | 0         | 55        | 49.5      | \n",
       "| Bob       | Wednesday | 2         | 0         | 0         | 40        | 34.0      | \n",
       "| Dana      | Wednesday | 0         | 0         | 1         |  5        |  5.0      | \n",
       "| Al        | Thursday  | 2         | 1         | 0         | 55        | 49.5      | \n",
       "| Al        | Friday    | 2         | 1         | 0         | 55        | 49.5      | \n",
       "| Bob       | Friday    | 2         | 0         | 0         | 40        | 34.0      | \n",
       "| Dana      | Friday    | 0         | 1         | 0         | 15        | 15.0      | \n",
       "| Evelyn    | Friday    | 0         | 0         | 1         |  5        |  5.0      | \n",
       "\n",
       "\n"
      ],
      "text/plain": [
       "   name   day       dogs cats rabbits bill newbill\n",
       "1  Al     Monday    2    1    0       55   49.5   \n",
       "2  Bob    Monday    2    0    0       40   34.0   \n",
       "3  Al     Tuesday   2    1    0       55   49.5   \n",
       "4  Carmen Tuesday   1    0    0       20   20.0   \n",
       "5  Dana   Tuesday   0    1    1       20   17.0   \n",
       "6  Al     Wednesday 2    1    0       55   49.5   \n",
       "7  Bob    Wednesday 2    0    0       40   34.0   \n",
       "8  Dana   Wednesday 0    0    1        5    5.0   \n",
       "9  Al     Thursday  2    1    0       55   49.5   \n",
       "10 Al     Friday    2    1    0       55   49.5   \n",
       "11 Bob    Friday    2    0    0       40   34.0   \n",
       "12 Dana   Friday    0    1    0       15   15.0   \n",
       "13 Evelyn Friday    0    0    1        5    5.0   "
      ]
     },
     "metadata": {},
     "output_type": "display_data"
    }
   ],
   "source": [
    "customers"
   ]
  },
  {
   "cell_type": "markdown",
   "metadata": {},
   "source": [
    "## The Tidyverse\n",
    "That's a lot of typing! Fortunately, there is a set of packages called the tidyverse that makes manipulating data tables much easier. In order to use external packages, we must install and load them. Installation has already happened in JupyterHub, so we just have to load the tidyverse with the command `library(tidyverse`."
   ]
  },
  {
   "cell_type": "code",
   "execution_count": 108,
   "metadata": {},
   "outputs": [],
   "source": [
    "library(tidyverse)"
   ]
  },
  {
   "cell_type": "markdown",
   "metadata": {},
   "source": [
    "The tidyverse contains several functions that make it very easy to manipulate data frames. The first one we will use is `mutate()` which creates a new column. There are two ways to use tidyverse functions. The first is with the name of the data frame as the first argument to the function. The second and more straightforward is with pipes (`%>%`). Let's go back to our original customers data frame. We will use the first method to calculate the bill and the second to calculate the total number of animals per customer per day."
   ]
  },
  {
   "cell_type": "code",
   "execution_count": 128,
   "metadata": {},
   "outputs": [
    {
     "data": {
      "text/html": [
       "<table>\n",
       "<thead><tr><th scope=col>name</th><th scope=col>day</th><th scope=col>dogs</th><th scope=col>cats</th><th scope=col>rabbits</th><th scope=col>bill</th><th scope=col>animals</th></tr></thead>\n",
       "<tbody>\n",
       "\t<tr><td>Al       </td><td>Monday   </td><td>2        </td><td>1        </td><td>0        </td><td>55       </td><td>3        </td></tr>\n",
       "\t<tr><td>Bob      </td><td>Monday   </td><td>2        </td><td>0        </td><td>0        </td><td>40       </td><td>2        </td></tr>\n",
       "\t<tr><td>Al       </td><td>Tuesday  </td><td>2        </td><td>1        </td><td>0        </td><td>55       </td><td>3        </td></tr>\n",
       "\t<tr><td>Carmen   </td><td>Tuesday  </td><td>1        </td><td>0        </td><td>0        </td><td>20       </td><td>1        </td></tr>\n",
       "\t<tr><td>Dana     </td><td>Tuesday  </td><td>0        </td><td>1        </td><td>1        </td><td>20       </td><td>2        </td></tr>\n",
       "\t<tr><td>Al       </td><td>Wednesday</td><td>2        </td><td>1        </td><td>0        </td><td>55       </td><td>3        </td></tr>\n",
       "\t<tr><td>Bob      </td><td>Wednesday</td><td>2        </td><td>0        </td><td>0        </td><td>40       </td><td>2        </td></tr>\n",
       "\t<tr><td>Dana     </td><td>Wednesday</td><td>0        </td><td>0        </td><td>1        </td><td> 5       </td><td>1        </td></tr>\n",
       "\t<tr><td>Al       </td><td>Thursday </td><td>2        </td><td>1        </td><td>0        </td><td>55       </td><td>3        </td></tr>\n",
       "\t<tr><td>Al       </td><td>Friday   </td><td>2        </td><td>1        </td><td>0        </td><td>55       </td><td>3        </td></tr>\n",
       "\t<tr><td>Bob      </td><td>Friday   </td><td>2        </td><td>0        </td><td>0        </td><td>40       </td><td>2        </td></tr>\n",
       "\t<tr><td>Dana     </td><td>Friday   </td><td>0        </td><td>1        </td><td>0        </td><td>15       </td><td>1        </td></tr>\n",
       "\t<tr><td>Evelyn   </td><td>Friday   </td><td>0        </td><td>0        </td><td>1        </td><td> 5       </td><td>1        </td></tr>\n",
       "</tbody>\n",
       "</table>\n"
      ],
      "text/latex": [
       "\\begin{tabular}{r|lllllll}\n",
       " name & day & dogs & cats & rabbits & bill & animals\\\\\n",
       "\\hline\n",
       "\t Al        & Monday    & 2         & 1         & 0         & 55        & 3        \\\\\n",
       "\t Bob       & Monday    & 2         & 0         & 0         & 40        & 2        \\\\\n",
       "\t Al        & Tuesday   & 2         & 1         & 0         & 55        & 3        \\\\\n",
       "\t Carmen    & Tuesday   & 1         & 0         & 0         & 20        & 1        \\\\\n",
       "\t Dana      & Tuesday   & 0         & 1         & 1         & 20        & 2        \\\\\n",
       "\t Al        & Wednesday & 2         & 1         & 0         & 55        & 3        \\\\\n",
       "\t Bob       & Wednesday & 2         & 0         & 0         & 40        & 2        \\\\\n",
       "\t Dana      & Wednesday & 0         & 0         & 1         &  5        & 1        \\\\\n",
       "\t Al        & Thursday  & 2         & 1         & 0         & 55        & 3        \\\\\n",
       "\t Al        & Friday    & 2         & 1         & 0         & 55        & 3        \\\\\n",
       "\t Bob       & Friday    & 2         & 0         & 0         & 40        & 2        \\\\\n",
       "\t Dana      & Friday    & 0         & 1         & 0         & 15        & 1        \\\\\n",
       "\t Evelyn    & Friday    & 0         & 0         & 1         &  5        & 1        \\\\\n",
       "\\end{tabular}\n"
      ],
      "text/markdown": [
       "\n",
       "name | day | dogs | cats | rabbits | bill | animals | \n",
       "|---|---|---|---|---|---|---|---|---|---|---|---|---|\n",
       "| Al        | Monday    | 2         | 1         | 0         | 55        | 3         | \n",
       "| Bob       | Monday    | 2         | 0         | 0         | 40        | 2         | \n",
       "| Al        | Tuesday   | 2         | 1         | 0         | 55        | 3         | \n",
       "| Carmen    | Tuesday   | 1         | 0         | 0         | 20        | 1         | \n",
       "| Dana      | Tuesday   | 0         | 1         | 1         | 20        | 2         | \n",
       "| Al        | Wednesday | 2         | 1         | 0         | 55        | 3         | \n",
       "| Bob       | Wednesday | 2         | 0         | 0         | 40        | 2         | \n",
       "| Dana      | Wednesday | 0         | 0         | 1         |  5        | 1         | \n",
       "| Al        | Thursday  | 2         | 1         | 0         | 55        | 3         | \n",
       "| Al        | Friday    | 2         | 1         | 0         | 55        | 3         | \n",
       "| Bob       | Friday    | 2         | 0         | 0         | 40        | 2         | \n",
       "| Dana      | Friday    | 0         | 1         | 0         | 15        | 1         | \n",
       "| Evelyn    | Friday    | 0         | 0         | 1         |  5        | 1         | \n",
       "\n",
       "\n"
      ],
      "text/plain": [
       "   name   day       dogs cats rabbits bill animals\n",
       "1  Al     Monday    2    1    0       55   3      \n",
       "2  Bob    Monday    2    0    0       40   2      \n",
       "3  Al     Tuesday   2    1    0       55   3      \n",
       "4  Carmen Tuesday   1    0    0       20   1      \n",
       "5  Dana   Tuesday   0    1    1       20   2      \n",
       "6  Al     Wednesday 2    1    0       55   3      \n",
       "7  Bob    Wednesday 2    0    0       40   2      \n",
       "8  Dana   Wednesday 0    0    1        5   1      \n",
       "9  Al     Thursday  2    1    0       55   3      \n",
       "10 Al     Friday    2    1    0       55   3      \n",
       "11 Bob    Friday    2    0    0       40   2      \n",
       "12 Dana   Friday    0    1    0       15   1      \n",
       "13 Evelyn Friday    0    0    1        5   1      "
      ]
     },
     "metadata": {},
     "output_type": "display_data"
    }
   ],
   "source": [
    "customers <- data.frame(name, day, dogs, cats, rabbits)\n",
    "\n",
    "#First way:\n",
    "customers <- mutate(customers, bill = dogs * 20 + cats * 15 + rabbits * 5)\n",
    "\n",
    "#Second way:\n",
    "customers <- customers %>% mutate(animals = dogs + cats + rabbits)\n",
    "\n",
    "customers"
   ]
  },
  {
   "cell_type": "markdown",
   "metadata": {},
   "source": [
    "Now we will calculate the discounted bill using the `ifelse()` function together with the `mutate()` function. The `ifelse()` function takes three arguments: `ifelse(condition, do if true, do if false)`. The first argument is the test; the second is what to do if the test passes; the third is what to do if the test fails. You can nest `ifelse()` statements, so if one test fails, you can move on to a second test (and so on)."
   ]
  },
  {
   "cell_type": "code",
   "execution_count": 118,
   "metadata": {},
   "outputs": [
    {
     "data": {
      "text/html": [
       "<table>\n",
       "<thead><tr><th scope=col>name</th><th scope=col>day</th><th scope=col>dogs</th><th scope=col>cats</th><th scope=col>rabbits</th><th scope=col>bill</th><th scope=col>animals</th><th scope=col>newbill</th></tr></thead>\n",
       "<tbody>\n",
       "\t<tr><td>Al       </td><td>Monday   </td><td>2        </td><td>1        </td><td>0        </td><td>55       </td><td>3        </td><td>49.5     </td></tr>\n",
       "\t<tr><td>Bob      </td><td>Monday   </td><td>2        </td><td>0        </td><td>0        </td><td>40       </td><td>2        </td><td>34.0     </td></tr>\n",
       "\t<tr><td>Al       </td><td>Tuesday  </td><td>2        </td><td>1        </td><td>0        </td><td>55       </td><td>3        </td><td>49.5     </td></tr>\n",
       "\t<tr><td>Carmen   </td><td>Tuesday  </td><td>1        </td><td>0        </td><td>0        </td><td>20       </td><td>1        </td><td>20.0     </td></tr>\n",
       "\t<tr><td>Dana     </td><td>Tuesday  </td><td>0        </td><td>1        </td><td>1        </td><td>20       </td><td>2        </td><td>17.0     </td></tr>\n",
       "\t<tr><td>Al       </td><td>Wednesday</td><td>2        </td><td>1        </td><td>0        </td><td>55       </td><td>3        </td><td>49.5     </td></tr>\n",
       "\t<tr><td>Bob      </td><td>Wednesday</td><td>2        </td><td>0        </td><td>0        </td><td>40       </td><td>2        </td><td>34.0     </td></tr>\n",
       "\t<tr><td>Dana     </td><td>Wednesday</td><td>0        </td><td>0        </td><td>1        </td><td> 5       </td><td>1        </td><td> 5.0     </td></tr>\n",
       "\t<tr><td>Al       </td><td>Thursday </td><td>2        </td><td>1        </td><td>0        </td><td>55       </td><td>3        </td><td>49.5     </td></tr>\n",
       "\t<tr><td>Al       </td><td>Friday   </td><td>2        </td><td>1        </td><td>0        </td><td>55       </td><td>3        </td><td>49.5     </td></tr>\n",
       "\t<tr><td>Bob      </td><td>Friday   </td><td>2        </td><td>0        </td><td>0        </td><td>40       </td><td>2        </td><td>34.0     </td></tr>\n",
       "\t<tr><td>Dana     </td><td>Friday   </td><td>0        </td><td>1        </td><td>0        </td><td>15       </td><td>1        </td><td>15.0     </td></tr>\n",
       "\t<tr><td>Evelyn   </td><td>Friday   </td><td>0        </td><td>0        </td><td>1        </td><td> 5       </td><td>1        </td><td> 5.0     </td></tr>\n",
       "</tbody>\n",
       "</table>\n"
      ],
      "text/latex": [
       "\\begin{tabular}{r|llllllll}\n",
       " name & day & dogs & cats & rabbits & bill & animals & newbill\\\\\n",
       "\\hline\n",
       "\t Al        & Monday    & 2         & 1         & 0         & 55        & 3         & 49.5     \\\\\n",
       "\t Bob       & Monday    & 2         & 0         & 0         & 40        & 2         & 34.0     \\\\\n",
       "\t Al        & Tuesday   & 2         & 1         & 0         & 55        & 3         & 49.5     \\\\\n",
       "\t Carmen    & Tuesday   & 1         & 0         & 0         & 20        & 1         & 20.0     \\\\\n",
       "\t Dana      & Tuesday   & 0         & 1         & 1         & 20        & 2         & 17.0     \\\\\n",
       "\t Al        & Wednesday & 2         & 1         & 0         & 55        & 3         & 49.5     \\\\\n",
       "\t Bob       & Wednesday & 2         & 0         & 0         & 40        & 2         & 34.0     \\\\\n",
       "\t Dana      & Wednesday & 0         & 0         & 1         &  5        & 1         &  5.0     \\\\\n",
       "\t Al        & Thursday  & 2         & 1         & 0         & 55        & 3         & 49.5     \\\\\n",
       "\t Al        & Friday    & 2         & 1         & 0         & 55        & 3         & 49.5     \\\\\n",
       "\t Bob       & Friday    & 2         & 0         & 0         & 40        & 2         & 34.0     \\\\\n",
       "\t Dana      & Friday    & 0         & 1         & 0         & 15        & 1         & 15.0     \\\\\n",
       "\t Evelyn    & Friday    & 0         & 0         & 1         &  5        & 1         &  5.0     \\\\\n",
       "\\end{tabular}\n"
      ],
      "text/markdown": [
       "\n",
       "name | day | dogs | cats | rabbits | bill | animals | newbill | \n",
       "|---|---|---|---|---|---|---|---|---|---|---|---|---|\n",
       "| Al        | Monday    | 2         | 1         | 0         | 55        | 3         | 49.5      | \n",
       "| Bob       | Monday    | 2         | 0         | 0         | 40        | 2         | 34.0      | \n",
       "| Al        | Tuesday   | 2         | 1         | 0         | 55        | 3         | 49.5      | \n",
       "| Carmen    | Tuesday   | 1         | 0         | 0         | 20        | 1         | 20.0      | \n",
       "| Dana      | Tuesday   | 0         | 1         | 1         | 20        | 2         | 17.0      | \n",
       "| Al        | Wednesday | 2         | 1         | 0         | 55        | 3         | 49.5      | \n",
       "| Bob       | Wednesday | 2         | 0         | 0         | 40        | 2         | 34.0      | \n",
       "| Dana      | Wednesday | 0         | 0         | 1         |  5        | 1         |  5.0      | \n",
       "| Al        | Thursday  | 2         | 1         | 0         | 55        | 3         | 49.5      | \n",
       "| Al        | Friday    | 2         | 1         | 0         | 55        | 3         | 49.5      | \n",
       "| Bob       | Friday    | 2         | 0         | 0         | 40        | 2         | 34.0      | \n",
       "| Dana      | Friday    | 0         | 1         | 0         | 15        | 1         | 15.0      | \n",
       "| Evelyn    | Friday    | 0         | 0         | 1         |  5        | 1         |  5.0      | \n",
       "\n",
       "\n"
      ],
      "text/plain": [
       "   name   day       dogs cats rabbits bill animals newbill\n",
       "1  Al     Monday    2    1    0       55   3       49.5   \n",
       "2  Bob    Monday    2    0    0       40   2       34.0   \n",
       "3  Al     Tuesday   2    1    0       55   3       49.5   \n",
       "4  Carmen Tuesday   1    0    0       20   1       20.0   \n",
       "5  Dana   Tuesday   0    1    1       20   2       17.0   \n",
       "6  Al     Wednesday 2    1    0       55   3       49.5   \n",
       "7  Bob    Wednesday 2    0    0       40   2       34.0   \n",
       "8  Dana   Wednesday 0    0    1        5   1        5.0   \n",
       "9  Al     Thursday  2    1    0       55   3       49.5   \n",
       "10 Al     Friday    2    1    0       55   3       49.5   \n",
       "11 Bob    Friday    2    0    0       40   2       34.0   \n",
       "12 Dana   Friday    0    1    0       15   1       15.0   \n",
       "13 Evelyn Friday    0    0    1        5   1        5.0   "
      ]
     },
     "metadata": {},
     "output_type": "display_data"
    }
   ],
   "source": [
    "customers <- customers %>% mutate(newbill = ifelse(animals > 2, bill * 0.9, ifelse(animals > 1, bill * 0.85, bill)))\n",
    "customers"
   ]
  },
  {
   "cell_type": "markdown",
   "metadata": {},
   "source": [
    "Explain what we just did."
   ]
  },
  {
   "cell_type": "markdown",
   "metadata": {},
   "source": [
    "There are three other tidyverse functions you will need to do this week's lab: `arrange()`, `select()`, and `filter()`. You can use `arrange()` to organize your data frame in ascending or descending order on the basis of one or more columns. For example, we can arrange our data alphabetically by customer:"
   ]
  },
  {
   "cell_type": "code",
   "execution_count": 131,
   "metadata": {},
   "outputs": [
    {
     "data": {
      "text/html": [
       "<table>\n",
       "<thead><tr><th scope=col>name</th><th scope=col>day</th><th scope=col>dogs</th><th scope=col>cats</th><th scope=col>rabbits</th><th scope=col>bill</th><th scope=col>animals</th></tr></thead>\n",
       "<tbody>\n",
       "\t<tr><td>Al       </td><td>Monday   </td><td>2        </td><td>1        </td><td>0        </td><td>55       </td><td>3        </td></tr>\n",
       "\t<tr><td>Al       </td><td>Tuesday  </td><td>2        </td><td>1        </td><td>0        </td><td>55       </td><td>3        </td></tr>\n",
       "\t<tr><td>Al       </td><td>Wednesday</td><td>2        </td><td>1        </td><td>0        </td><td>55       </td><td>3        </td></tr>\n",
       "\t<tr><td>Al       </td><td>Thursday </td><td>2        </td><td>1        </td><td>0        </td><td>55       </td><td>3        </td></tr>\n",
       "\t<tr><td>Al       </td><td>Friday   </td><td>2        </td><td>1        </td><td>0        </td><td>55       </td><td>3        </td></tr>\n",
       "\t<tr><td>Bob      </td><td>Monday   </td><td>2        </td><td>0        </td><td>0        </td><td>40       </td><td>2        </td></tr>\n",
       "\t<tr><td>Bob      </td><td>Wednesday</td><td>2        </td><td>0        </td><td>0        </td><td>40       </td><td>2        </td></tr>\n",
       "\t<tr><td>Bob      </td><td>Friday   </td><td>2        </td><td>0        </td><td>0        </td><td>40       </td><td>2        </td></tr>\n",
       "\t<tr><td>Carmen   </td><td>Tuesday  </td><td>1        </td><td>0        </td><td>0        </td><td>20       </td><td>1        </td></tr>\n",
       "\t<tr><td>Dana     </td><td>Tuesday  </td><td>0        </td><td>1        </td><td>1        </td><td>20       </td><td>2        </td></tr>\n",
       "\t<tr><td>Dana     </td><td>Wednesday</td><td>0        </td><td>0        </td><td>1        </td><td> 5       </td><td>1        </td></tr>\n",
       "\t<tr><td>Dana     </td><td>Friday   </td><td>0        </td><td>1        </td><td>0        </td><td>15       </td><td>1        </td></tr>\n",
       "\t<tr><td>Evelyn   </td><td>Friday   </td><td>0        </td><td>0        </td><td>1        </td><td> 5       </td><td>1        </td></tr>\n",
       "</tbody>\n",
       "</table>\n"
      ],
      "text/latex": [
       "\\begin{tabular}{r|lllllll}\n",
       " name & day & dogs & cats & rabbits & bill & animals\\\\\n",
       "\\hline\n",
       "\t Al        & Monday    & 2         & 1         & 0         & 55        & 3        \\\\\n",
       "\t Al        & Tuesday   & 2         & 1         & 0         & 55        & 3        \\\\\n",
       "\t Al        & Wednesday & 2         & 1         & 0         & 55        & 3        \\\\\n",
       "\t Al        & Thursday  & 2         & 1         & 0         & 55        & 3        \\\\\n",
       "\t Al        & Friday    & 2         & 1         & 0         & 55        & 3        \\\\\n",
       "\t Bob       & Monday    & 2         & 0         & 0         & 40        & 2        \\\\\n",
       "\t Bob       & Wednesday & 2         & 0         & 0         & 40        & 2        \\\\\n",
       "\t Bob       & Friday    & 2         & 0         & 0         & 40        & 2        \\\\\n",
       "\t Carmen    & Tuesday   & 1         & 0         & 0         & 20        & 1        \\\\\n",
       "\t Dana      & Tuesday   & 0         & 1         & 1         & 20        & 2        \\\\\n",
       "\t Dana      & Wednesday & 0         & 0         & 1         &  5        & 1        \\\\\n",
       "\t Dana      & Friday    & 0         & 1         & 0         & 15        & 1        \\\\\n",
       "\t Evelyn    & Friday    & 0         & 0         & 1         &  5        & 1        \\\\\n",
       "\\end{tabular}\n"
      ],
      "text/markdown": [
       "\n",
       "name | day | dogs | cats | rabbits | bill | animals | \n",
       "|---|---|---|---|---|---|---|---|---|---|---|---|---|\n",
       "| Al        | Monday    | 2         | 1         | 0         | 55        | 3         | \n",
       "| Al        | Tuesday   | 2         | 1         | 0         | 55        | 3         | \n",
       "| Al        | Wednesday | 2         | 1         | 0         | 55        | 3         | \n",
       "| Al        | Thursday  | 2         | 1         | 0         | 55        | 3         | \n",
       "| Al        | Friday    | 2         | 1         | 0         | 55        | 3         | \n",
       "| Bob       | Monday    | 2         | 0         | 0         | 40        | 2         | \n",
       "| Bob       | Wednesday | 2         | 0         | 0         | 40        | 2         | \n",
       "| Bob       | Friday    | 2         | 0         | 0         | 40        | 2         | \n",
       "| Carmen    | Tuesday   | 1         | 0         | 0         | 20        | 1         | \n",
       "| Dana      | Tuesday   | 0         | 1         | 1         | 20        | 2         | \n",
       "| Dana      | Wednesday | 0         | 0         | 1         |  5        | 1         | \n",
       "| Dana      | Friday    | 0         | 1         | 0         | 15        | 1         | \n",
       "| Evelyn    | Friday    | 0         | 0         | 1         |  5        | 1         | \n",
       "\n",
       "\n"
      ],
      "text/plain": [
       "   name   day       dogs cats rabbits bill animals\n",
       "1  Al     Monday    2    1    0       55   3      \n",
       "2  Al     Tuesday   2    1    0       55   3      \n",
       "3  Al     Wednesday 2    1    0       55   3      \n",
       "4  Al     Thursday  2    1    0       55   3      \n",
       "5  Al     Friday    2    1    0       55   3      \n",
       "6  Bob    Monday    2    0    0       40   2      \n",
       "7  Bob    Wednesday 2    0    0       40   2      \n",
       "8  Bob    Friday    2    0    0       40   2      \n",
       "9  Carmen Tuesday   1    0    0       20   1      \n",
       "10 Dana   Tuesday   0    1    1       20   2      \n",
       "11 Dana   Wednesday 0    0    1        5   1      \n",
       "12 Dana   Friday    0    1    0       15   1      \n",
       "13 Evelyn Friday    0    0    1        5   1      "
      ]
     },
     "metadata": {},
     "output_type": "display_data"
    }
   ],
   "source": [
    "customers %>% arrange(name)"
   ]
  },
  {
   "cell_type": "markdown",
   "metadata": {},
   "source": [
    "Within the record for each customer, we can also organize by number of animals brought in each day:"
   ]
  },
  {
   "cell_type": "code",
   "execution_count": 133,
   "metadata": {},
   "outputs": [
    {
     "data": {
      "text/html": [
       "<table>\n",
       "<thead><tr><th scope=col>name</th><th scope=col>day</th><th scope=col>dogs</th><th scope=col>cats</th><th scope=col>rabbits</th><th scope=col>bill</th><th scope=col>animals</th></tr></thead>\n",
       "<tbody>\n",
       "\t<tr><td>Al       </td><td>Monday   </td><td>2        </td><td>1        </td><td>0        </td><td>55       </td><td>3        </td></tr>\n",
       "\t<tr><td>Al       </td><td>Tuesday  </td><td>2        </td><td>1        </td><td>0        </td><td>55       </td><td>3        </td></tr>\n",
       "\t<tr><td>Al       </td><td>Wednesday</td><td>2        </td><td>1        </td><td>0        </td><td>55       </td><td>3        </td></tr>\n",
       "\t<tr><td>Al       </td><td>Thursday </td><td>2        </td><td>1        </td><td>0        </td><td>55       </td><td>3        </td></tr>\n",
       "\t<tr><td>Al       </td><td>Friday   </td><td>2        </td><td>1        </td><td>0        </td><td>55       </td><td>3        </td></tr>\n",
       "\t<tr><td>Bob      </td><td>Monday   </td><td>2        </td><td>0        </td><td>0        </td><td>40       </td><td>2        </td></tr>\n",
       "\t<tr><td>Bob      </td><td>Wednesday</td><td>2        </td><td>0        </td><td>0        </td><td>40       </td><td>2        </td></tr>\n",
       "\t<tr><td>Bob      </td><td>Friday   </td><td>2        </td><td>0        </td><td>0        </td><td>40       </td><td>2        </td></tr>\n",
       "\t<tr><td>Carmen   </td><td>Tuesday  </td><td>1        </td><td>0        </td><td>0        </td><td>20       </td><td>1        </td></tr>\n",
       "\t<tr><td>Dana     </td><td>Wednesday</td><td>0        </td><td>0        </td><td>1        </td><td> 5       </td><td>1        </td></tr>\n",
       "\t<tr><td>Dana     </td><td>Friday   </td><td>0        </td><td>1        </td><td>0        </td><td>15       </td><td>1        </td></tr>\n",
       "\t<tr><td>Dana     </td><td>Tuesday  </td><td>0        </td><td>1        </td><td>1        </td><td>20       </td><td>2        </td></tr>\n",
       "\t<tr><td>Evelyn   </td><td>Friday   </td><td>0        </td><td>0        </td><td>1        </td><td> 5       </td><td>1        </td></tr>\n",
       "</tbody>\n",
       "</table>\n"
      ],
      "text/latex": [
       "\\begin{tabular}{r|lllllll}\n",
       " name & day & dogs & cats & rabbits & bill & animals\\\\\n",
       "\\hline\n",
       "\t Al        & Monday    & 2         & 1         & 0         & 55        & 3        \\\\\n",
       "\t Al        & Tuesday   & 2         & 1         & 0         & 55        & 3        \\\\\n",
       "\t Al        & Wednesday & 2         & 1         & 0         & 55        & 3        \\\\\n",
       "\t Al        & Thursday  & 2         & 1         & 0         & 55        & 3        \\\\\n",
       "\t Al        & Friday    & 2         & 1         & 0         & 55        & 3        \\\\\n",
       "\t Bob       & Monday    & 2         & 0         & 0         & 40        & 2        \\\\\n",
       "\t Bob       & Wednesday & 2         & 0         & 0         & 40        & 2        \\\\\n",
       "\t Bob       & Friday    & 2         & 0         & 0         & 40        & 2        \\\\\n",
       "\t Carmen    & Tuesday   & 1         & 0         & 0         & 20        & 1        \\\\\n",
       "\t Dana      & Wednesday & 0         & 0         & 1         &  5        & 1        \\\\\n",
       "\t Dana      & Friday    & 0         & 1         & 0         & 15        & 1        \\\\\n",
       "\t Dana      & Tuesday   & 0         & 1         & 1         & 20        & 2        \\\\\n",
       "\t Evelyn    & Friday    & 0         & 0         & 1         &  5        & 1        \\\\\n",
       "\\end{tabular}\n"
      ],
      "text/markdown": [
       "\n",
       "name | day | dogs | cats | rabbits | bill | animals | \n",
       "|---|---|---|---|---|---|---|---|---|---|---|---|---|\n",
       "| Al        | Monday    | 2         | 1         | 0         | 55        | 3         | \n",
       "| Al        | Tuesday   | 2         | 1         | 0         | 55        | 3         | \n",
       "| Al        | Wednesday | 2         | 1         | 0         | 55        | 3         | \n",
       "| Al        | Thursday  | 2         | 1         | 0         | 55        | 3         | \n",
       "| Al        | Friday    | 2         | 1         | 0         | 55        | 3         | \n",
       "| Bob       | Monday    | 2         | 0         | 0         | 40        | 2         | \n",
       "| Bob       | Wednesday | 2         | 0         | 0         | 40        | 2         | \n",
       "| Bob       | Friday    | 2         | 0         | 0         | 40        | 2         | \n",
       "| Carmen    | Tuesday   | 1         | 0         | 0         | 20        | 1         | \n",
       "| Dana      | Wednesday | 0         | 0         | 1         |  5        | 1         | \n",
       "| Dana      | Friday    | 0         | 1         | 0         | 15        | 1         | \n",
       "| Dana      | Tuesday   | 0         | 1         | 1         | 20        | 2         | \n",
       "| Evelyn    | Friday    | 0         | 0         | 1         |  5        | 1         | \n",
       "\n",
       "\n"
      ],
      "text/plain": [
       "   name   day       dogs cats rabbits bill animals\n",
       "1  Al     Monday    2    1    0       55   3      \n",
       "2  Al     Tuesday   2    1    0       55   3      \n",
       "3  Al     Wednesday 2    1    0       55   3      \n",
       "4  Al     Thursday  2    1    0       55   3      \n",
       "5  Al     Friday    2    1    0       55   3      \n",
       "6  Bob    Monday    2    0    0       40   2      \n",
       "7  Bob    Wednesday 2    0    0       40   2      \n",
       "8  Bob    Friday    2    0    0       40   2      \n",
       "9  Carmen Tuesday   1    0    0       20   1      \n",
       "10 Dana   Wednesday 0    0    1        5   1      \n",
       "11 Dana   Friday    0    1    0       15   1      \n",
       "12 Dana   Tuesday   0    1    1       20   2      \n",
       "13 Evelyn Friday    0    0    1        5   1      "
      ]
     },
     "metadata": {},
     "output_type": "display_data"
    }
   ],
   "source": [
    "customers %>% arrange(name, animals)"
   ]
  },
  {
   "cell_type": "markdown",
   "metadata": {},
   "source": [
    "We can do the same thing in descending order of number of animals (this really only makes a difference for Dana, who brings her rabbit on Wednesday and her cat on Friday and both on Tuesday):"
   ]
  },
  {
   "cell_type": "code",
   "execution_count": 135,
   "metadata": {},
   "outputs": [
    {
     "data": {
      "text/html": [
       "<table>\n",
       "<thead><tr><th scope=col>name</th><th scope=col>day</th><th scope=col>dogs</th><th scope=col>cats</th><th scope=col>rabbits</th><th scope=col>bill</th><th scope=col>animals</th></tr></thead>\n",
       "<tbody>\n",
       "\t<tr><td>Al       </td><td>Monday   </td><td>2        </td><td>1        </td><td>0        </td><td>55       </td><td>3        </td></tr>\n",
       "\t<tr><td>Al       </td><td>Tuesday  </td><td>2        </td><td>1        </td><td>0        </td><td>55       </td><td>3        </td></tr>\n",
       "\t<tr><td>Al       </td><td>Wednesday</td><td>2        </td><td>1        </td><td>0        </td><td>55       </td><td>3        </td></tr>\n",
       "\t<tr><td>Al       </td><td>Thursday </td><td>2        </td><td>1        </td><td>0        </td><td>55       </td><td>3        </td></tr>\n",
       "\t<tr><td>Al       </td><td>Friday   </td><td>2        </td><td>1        </td><td>0        </td><td>55       </td><td>3        </td></tr>\n",
       "\t<tr><td>Bob      </td><td>Monday   </td><td>2        </td><td>0        </td><td>0        </td><td>40       </td><td>2        </td></tr>\n",
       "\t<tr><td>Bob      </td><td>Wednesday</td><td>2        </td><td>0        </td><td>0        </td><td>40       </td><td>2        </td></tr>\n",
       "\t<tr><td>Bob      </td><td>Friday   </td><td>2        </td><td>0        </td><td>0        </td><td>40       </td><td>2        </td></tr>\n",
       "\t<tr><td>Carmen   </td><td>Tuesday  </td><td>1        </td><td>0        </td><td>0        </td><td>20       </td><td>1        </td></tr>\n",
       "\t<tr><td>Dana     </td><td>Tuesday  </td><td>0        </td><td>1        </td><td>1        </td><td>20       </td><td>2        </td></tr>\n",
       "\t<tr><td>Dana     </td><td>Wednesday</td><td>0        </td><td>0        </td><td>1        </td><td> 5       </td><td>1        </td></tr>\n",
       "\t<tr><td>Dana     </td><td>Friday   </td><td>0        </td><td>1        </td><td>0        </td><td>15       </td><td>1        </td></tr>\n",
       "\t<tr><td>Evelyn   </td><td>Friday   </td><td>0        </td><td>0        </td><td>1        </td><td> 5       </td><td>1        </td></tr>\n",
       "</tbody>\n",
       "</table>\n"
      ],
      "text/latex": [
       "\\begin{tabular}{r|lllllll}\n",
       " name & day & dogs & cats & rabbits & bill & animals\\\\\n",
       "\\hline\n",
       "\t Al        & Monday    & 2         & 1         & 0         & 55        & 3        \\\\\n",
       "\t Al        & Tuesday   & 2         & 1         & 0         & 55        & 3        \\\\\n",
       "\t Al        & Wednesday & 2         & 1         & 0         & 55        & 3        \\\\\n",
       "\t Al        & Thursday  & 2         & 1         & 0         & 55        & 3        \\\\\n",
       "\t Al        & Friday    & 2         & 1         & 0         & 55        & 3        \\\\\n",
       "\t Bob       & Monday    & 2         & 0         & 0         & 40        & 2        \\\\\n",
       "\t Bob       & Wednesday & 2         & 0         & 0         & 40        & 2        \\\\\n",
       "\t Bob       & Friday    & 2         & 0         & 0         & 40        & 2        \\\\\n",
       "\t Carmen    & Tuesday   & 1         & 0         & 0         & 20        & 1        \\\\\n",
       "\t Dana      & Tuesday   & 0         & 1         & 1         & 20        & 2        \\\\\n",
       "\t Dana      & Wednesday & 0         & 0         & 1         &  5        & 1        \\\\\n",
       "\t Dana      & Friday    & 0         & 1         & 0         & 15        & 1        \\\\\n",
       "\t Evelyn    & Friday    & 0         & 0         & 1         &  5        & 1        \\\\\n",
       "\\end{tabular}\n"
      ],
      "text/markdown": [
       "\n",
       "name | day | dogs | cats | rabbits | bill | animals | \n",
       "|---|---|---|---|---|---|---|---|---|---|---|---|---|\n",
       "| Al        | Monday    | 2         | 1         | 0         | 55        | 3         | \n",
       "| Al        | Tuesday   | 2         | 1         | 0         | 55        | 3         | \n",
       "| Al        | Wednesday | 2         | 1         | 0         | 55        | 3         | \n",
       "| Al        | Thursday  | 2         | 1         | 0         | 55        | 3         | \n",
       "| Al        | Friday    | 2         | 1         | 0         | 55        | 3         | \n",
       "| Bob       | Monday    | 2         | 0         | 0         | 40        | 2         | \n",
       "| Bob       | Wednesday | 2         | 0         | 0         | 40        | 2         | \n",
       "| Bob       | Friday    | 2         | 0         | 0         | 40        | 2         | \n",
       "| Carmen    | Tuesday   | 1         | 0         | 0         | 20        | 1         | \n",
       "| Dana      | Tuesday   | 0         | 1         | 1         | 20        | 2         | \n",
       "| Dana      | Wednesday | 0         | 0         | 1         |  5        | 1         | \n",
       "| Dana      | Friday    | 0         | 1         | 0         | 15        | 1         | \n",
       "| Evelyn    | Friday    | 0         | 0         | 1         |  5        | 1         | \n",
       "\n",
       "\n"
      ],
      "text/plain": [
       "   name   day       dogs cats rabbits bill animals\n",
       "1  Al     Monday    2    1    0       55   3      \n",
       "2  Al     Tuesday   2    1    0       55   3      \n",
       "3  Al     Wednesday 2    1    0       55   3      \n",
       "4  Al     Thursday  2    1    0       55   3      \n",
       "5  Al     Friday    2    1    0       55   3      \n",
       "6  Bob    Monday    2    0    0       40   2      \n",
       "7  Bob    Wednesday 2    0    0       40   2      \n",
       "8  Bob    Friday    2    0    0       40   2      \n",
       "9  Carmen Tuesday   1    0    0       20   1      \n",
       "10 Dana   Tuesday   0    1    1       20   2      \n",
       "11 Dana   Wednesday 0    0    1        5   1      \n",
       "12 Dana   Friday    0    1    0       15   1      \n",
       "13 Evelyn Friday    0    0    1        5   1      "
      ]
     },
     "metadata": {},
     "output_type": "display_data"
    }
   ],
   "source": [
    "customers %>% arrange(name, -animals)"
   ]
  },
  {
   "cell_type": "markdown",
   "metadata": {},
   "source": [
    "The `filter()` function allows us to see only the rows where a certain condition is true. For example, say we only wanted to see the records for Bob:"
   ]
  },
  {
   "cell_type": "code",
   "execution_count": 136,
   "metadata": {},
   "outputs": [
    {
     "data": {
      "text/html": [
       "<table>\n",
       "<thead><tr><th scope=col>name</th><th scope=col>day</th><th scope=col>dogs</th><th scope=col>cats</th><th scope=col>rabbits</th><th scope=col>bill</th><th scope=col>animals</th></tr></thead>\n",
       "<tbody>\n",
       "\t<tr><td>Bob      </td><td>Monday   </td><td>2        </td><td>0        </td><td>0        </td><td>40       </td><td>2        </td></tr>\n",
       "\t<tr><td>Bob      </td><td>Wednesday</td><td>2        </td><td>0        </td><td>0        </td><td>40       </td><td>2        </td></tr>\n",
       "\t<tr><td>Bob      </td><td>Friday   </td><td>2        </td><td>0        </td><td>0        </td><td>40       </td><td>2        </td></tr>\n",
       "</tbody>\n",
       "</table>\n"
      ],
      "text/latex": [
       "\\begin{tabular}{r|lllllll}\n",
       " name & day & dogs & cats & rabbits & bill & animals\\\\\n",
       "\\hline\n",
       "\t Bob       & Monday    & 2         & 0         & 0         & 40        & 2        \\\\\n",
       "\t Bob       & Wednesday & 2         & 0         & 0         & 40        & 2        \\\\\n",
       "\t Bob       & Friday    & 2         & 0         & 0         & 40        & 2        \\\\\n",
       "\\end{tabular}\n"
      ],
      "text/markdown": [
       "\n",
       "name | day | dogs | cats | rabbits | bill | animals | \n",
       "|---|---|---|\n",
       "| Bob       | Monday    | 2         | 0         | 0         | 40        | 2         | \n",
       "| Bob       | Wednesday | 2         | 0         | 0         | 40        | 2         | \n",
       "| Bob       | Friday    | 2         | 0         | 0         | 40        | 2         | \n",
       "\n",
       "\n"
      ],
      "text/plain": [
       "  name day       dogs cats rabbits bill animals\n",
       "1 Bob  Monday    2    0    0       40   2      \n",
       "2 Bob  Wednesday 2    0    0       40   2      \n",
       "3 Bob  Friday    2    0    0       40   2      "
      ]
     },
     "metadata": {},
     "output_type": "display_data"
    }
   ],
   "source": [
    "customers %>% filter(name == \"Bob\")"
   ]
  },
  {
   "cell_type": "markdown",
   "metadata": {},
   "source": [
    "What if we wanted to see everyone except Bob?"
   ]
  },
  {
   "cell_type": "markdown",
   "metadata": {},
   "source": [
    "The `select()` function allows us to see only a subset of the columns. For example, if we just wanted to see name, day of the week, and total number of animals for each customer, there are two ways to do it:"
   ]
  },
  {
   "cell_type": "code",
   "execution_count": 138,
   "metadata": {},
   "outputs": [
    {
     "data": {
      "text/html": [
       "<table>\n",
       "<thead><tr><th scope=col>name</th><th scope=col>day</th><th scope=col>animals</th></tr></thead>\n",
       "<tbody>\n",
       "\t<tr><td>Al       </td><td>Monday   </td><td>3        </td></tr>\n",
       "\t<tr><td>Bob      </td><td>Monday   </td><td>2        </td></tr>\n",
       "\t<tr><td>Al       </td><td>Tuesday  </td><td>3        </td></tr>\n",
       "\t<tr><td>Carmen   </td><td>Tuesday  </td><td>1        </td></tr>\n",
       "\t<tr><td>Dana     </td><td>Tuesday  </td><td>2        </td></tr>\n",
       "\t<tr><td>Al       </td><td>Wednesday</td><td>3        </td></tr>\n",
       "\t<tr><td>Bob      </td><td>Wednesday</td><td>2        </td></tr>\n",
       "\t<tr><td>Dana     </td><td>Wednesday</td><td>1        </td></tr>\n",
       "\t<tr><td>Al       </td><td>Thursday </td><td>3        </td></tr>\n",
       "\t<tr><td>Al       </td><td>Friday   </td><td>3        </td></tr>\n",
       "\t<tr><td>Bob      </td><td>Friday   </td><td>2        </td></tr>\n",
       "\t<tr><td>Dana     </td><td>Friday   </td><td>1        </td></tr>\n",
       "\t<tr><td>Evelyn   </td><td>Friday   </td><td>1        </td></tr>\n",
       "</tbody>\n",
       "</table>\n"
      ],
      "text/latex": [
       "\\begin{tabular}{r|lll}\n",
       " name & day & animals\\\\\n",
       "\\hline\n",
       "\t Al        & Monday    & 3        \\\\\n",
       "\t Bob       & Monday    & 2        \\\\\n",
       "\t Al        & Tuesday   & 3        \\\\\n",
       "\t Carmen    & Tuesday   & 1        \\\\\n",
       "\t Dana      & Tuesday   & 2        \\\\\n",
       "\t Al        & Wednesday & 3        \\\\\n",
       "\t Bob       & Wednesday & 2        \\\\\n",
       "\t Dana      & Wednesday & 1        \\\\\n",
       "\t Al        & Thursday  & 3        \\\\\n",
       "\t Al        & Friday    & 3        \\\\\n",
       "\t Bob       & Friday    & 2        \\\\\n",
       "\t Dana      & Friday    & 1        \\\\\n",
       "\t Evelyn    & Friday    & 1        \\\\\n",
       "\\end{tabular}\n"
      ],
      "text/markdown": [
       "\n",
       "name | day | animals | \n",
       "|---|---|---|---|---|---|---|---|---|---|---|---|---|\n",
       "| Al        | Monday    | 3         | \n",
       "| Bob       | Monday    | 2         | \n",
       "| Al        | Tuesday   | 3         | \n",
       "| Carmen    | Tuesday   | 1         | \n",
       "| Dana      | Tuesday   | 2         | \n",
       "| Al        | Wednesday | 3         | \n",
       "| Bob       | Wednesday | 2         | \n",
       "| Dana      | Wednesday | 1         | \n",
       "| Al        | Thursday  | 3         | \n",
       "| Al        | Friday    | 3         | \n",
       "| Bob       | Friday    | 2         | \n",
       "| Dana      | Friday    | 1         | \n",
       "| Evelyn    | Friday    | 1         | \n",
       "\n",
       "\n"
      ],
      "text/plain": [
       "   name   day       animals\n",
       "1  Al     Monday    3      \n",
       "2  Bob    Monday    2      \n",
       "3  Al     Tuesday   3      \n",
       "4  Carmen Tuesday   1      \n",
       "5  Dana   Tuesday   2      \n",
       "6  Al     Wednesday 3      \n",
       "7  Bob    Wednesday 2      \n",
       "8  Dana   Wednesday 1      \n",
       "9  Al     Thursday  3      \n",
       "10 Al     Friday    3      \n",
       "11 Bob    Friday    2      \n",
       "12 Dana   Friday    1      \n",
       "13 Evelyn Friday    1      "
      ]
     },
     "metadata": {},
     "output_type": "display_data"
    },
    {
     "ename": "ERROR",
     "evalue": "Error: `NULL` must evaluate to column positions or names, not a double vector\n",
     "output_type": "error",
     "traceback": [
      "Error: `NULL` must evaluate to column positions or names, not a double vector\nTraceback:\n",
      "1. customers %>% select(-dogs, -cats, -rabbits, -bill, -newbill)",
      "2. withVisible(eval(quote(`_fseq`(`_lhs`)), env, env))",
      "3. eval(quote(`_fseq`(`_lhs`)), env, env)",
      "4. eval(quote(`_fseq`(`_lhs`)), env, env)",
      "5. `_fseq`(`_lhs`)",
      "6. freduce(value, `_function_list`)",
      "7. withVisible(function_list[[k]](value))",
      "8. function_list[[k]](value)",
      "9. select(., -dogs, -cats, -rabbits, -bill, -newbill)",
      "10. select.data.frame(., -dogs, -cats, -rabbits, -bill, -newbill)",
      "11. tidyselect::vars_select(names(.data), !!!quos(...))",
      "12. bad_calls(bad, \"must evaluate to { singular(.vars) } positions or names, \\\\\\n       not { first_type }\")",
      "13. glubort(fmt_calls(calls), ..., .envir = .envir)",
      "14. .abort(text)"
     ]
    }
   ],
   "source": [
    "#First way:\n",
    "customers %>% select(name, day, animals)\n",
    "\n",
    "#Second way:\n",
    "customers %>% select(-dogs, -cats, -rabbits, -bill, -newbill)"
   ]
  },
  {
   "cell_type": "markdown",
   "metadata": {},
   "source": [
    "Note that when we were working with `arrange()`, `filter()`, and `select()`, we did not change the `customers` data frame: we only viewed the results of our actions. As you can see, the `customers` data set remains as it previously was:"
   ]
  },
  {
   "cell_type": "code",
   "execution_count": 139,
   "metadata": {},
   "outputs": [
    {
     "data": {
      "text/html": [
       "<table>\n",
       "<thead><tr><th scope=col>name</th><th scope=col>day</th><th scope=col>dogs</th><th scope=col>cats</th><th scope=col>rabbits</th><th scope=col>bill</th><th scope=col>animals</th></tr></thead>\n",
       "<tbody>\n",
       "\t<tr><td>Al       </td><td>Monday   </td><td>2        </td><td>1        </td><td>0        </td><td>55       </td><td>3        </td></tr>\n",
       "\t<tr><td>Bob      </td><td>Monday   </td><td>2        </td><td>0        </td><td>0        </td><td>40       </td><td>2        </td></tr>\n",
       "\t<tr><td>Al       </td><td>Tuesday  </td><td>2        </td><td>1        </td><td>0        </td><td>55       </td><td>3        </td></tr>\n",
       "\t<tr><td>Carmen   </td><td>Tuesday  </td><td>1        </td><td>0        </td><td>0        </td><td>20       </td><td>1        </td></tr>\n",
       "\t<tr><td>Dana     </td><td>Tuesday  </td><td>0        </td><td>1        </td><td>1        </td><td>20       </td><td>2        </td></tr>\n",
       "\t<tr><td>Al       </td><td>Wednesday</td><td>2        </td><td>1        </td><td>0        </td><td>55       </td><td>3        </td></tr>\n",
       "\t<tr><td>Bob      </td><td>Wednesday</td><td>2        </td><td>0        </td><td>0        </td><td>40       </td><td>2        </td></tr>\n",
       "\t<tr><td>Dana     </td><td>Wednesday</td><td>0        </td><td>0        </td><td>1        </td><td> 5       </td><td>1        </td></tr>\n",
       "\t<tr><td>Al       </td><td>Thursday </td><td>2        </td><td>1        </td><td>0        </td><td>55       </td><td>3        </td></tr>\n",
       "\t<tr><td>Al       </td><td>Friday   </td><td>2        </td><td>1        </td><td>0        </td><td>55       </td><td>3        </td></tr>\n",
       "\t<tr><td>Bob      </td><td>Friday   </td><td>2        </td><td>0        </td><td>0        </td><td>40       </td><td>2        </td></tr>\n",
       "\t<tr><td>Dana     </td><td>Friday   </td><td>0        </td><td>1        </td><td>0        </td><td>15       </td><td>1        </td></tr>\n",
       "\t<tr><td>Evelyn   </td><td>Friday   </td><td>0        </td><td>0        </td><td>1        </td><td> 5       </td><td>1        </td></tr>\n",
       "</tbody>\n",
       "</table>\n"
      ],
      "text/latex": [
       "\\begin{tabular}{r|lllllll}\n",
       " name & day & dogs & cats & rabbits & bill & animals\\\\\n",
       "\\hline\n",
       "\t Al        & Monday    & 2         & 1         & 0         & 55        & 3        \\\\\n",
       "\t Bob       & Monday    & 2         & 0         & 0         & 40        & 2        \\\\\n",
       "\t Al        & Tuesday   & 2         & 1         & 0         & 55        & 3        \\\\\n",
       "\t Carmen    & Tuesday   & 1         & 0         & 0         & 20        & 1        \\\\\n",
       "\t Dana      & Tuesday   & 0         & 1         & 1         & 20        & 2        \\\\\n",
       "\t Al        & Wednesday & 2         & 1         & 0         & 55        & 3        \\\\\n",
       "\t Bob       & Wednesday & 2         & 0         & 0         & 40        & 2        \\\\\n",
       "\t Dana      & Wednesday & 0         & 0         & 1         &  5        & 1        \\\\\n",
       "\t Al        & Thursday  & 2         & 1         & 0         & 55        & 3        \\\\\n",
       "\t Al        & Friday    & 2         & 1         & 0         & 55        & 3        \\\\\n",
       "\t Bob       & Friday    & 2         & 0         & 0         & 40        & 2        \\\\\n",
       "\t Dana      & Friday    & 0         & 1         & 0         & 15        & 1        \\\\\n",
       "\t Evelyn    & Friday    & 0         & 0         & 1         &  5        & 1        \\\\\n",
       "\\end{tabular}\n"
      ],
      "text/markdown": [
       "\n",
       "name | day | dogs | cats | rabbits | bill | animals | \n",
       "|---|---|---|---|---|---|---|---|---|---|---|---|---|\n",
       "| Al        | Monday    | 2         | 1         | 0         | 55        | 3         | \n",
       "| Bob       | Monday    | 2         | 0         | 0         | 40        | 2         | \n",
       "| Al        | Tuesday   | 2         | 1         | 0         | 55        | 3         | \n",
       "| Carmen    | Tuesday   | 1         | 0         | 0         | 20        | 1         | \n",
       "| Dana      | Tuesday   | 0         | 1         | 1         | 20        | 2         | \n",
       "| Al        | Wednesday | 2         | 1         | 0         | 55        | 3         | \n",
       "| Bob       | Wednesday | 2         | 0         | 0         | 40        | 2         | \n",
       "| Dana      | Wednesday | 0         | 0         | 1         |  5        | 1         | \n",
       "| Al        | Thursday  | 2         | 1         | 0         | 55        | 3         | \n",
       "| Al        | Friday    | 2         | 1         | 0         | 55        | 3         | \n",
       "| Bob       | Friday    | 2         | 0         | 0         | 40        | 2         | \n",
       "| Dana      | Friday    | 0         | 1         | 0         | 15        | 1         | \n",
       "| Evelyn    | Friday    | 0         | 0         | 1         |  5        | 1         | \n",
       "\n",
       "\n"
      ],
      "text/plain": [
       "   name   day       dogs cats rabbits bill animals\n",
       "1  Al     Monday    2    1    0       55   3      \n",
       "2  Bob    Monday    2    0    0       40   2      \n",
       "3  Al     Tuesday   2    1    0       55   3      \n",
       "4  Carmen Tuesday   1    0    0       20   1      \n",
       "5  Dana   Tuesday   0    1    1       20   2      \n",
       "6  Al     Wednesday 2    1    0       55   3      \n",
       "7  Bob    Wednesday 2    0    0       40   2      \n",
       "8  Dana   Wednesday 0    0    1        5   1      \n",
       "9  Al     Thursday  2    1    0       55   3      \n",
       "10 Al     Friday    2    1    0       55   3      \n",
       "11 Bob    Friday    2    0    0       40   2      \n",
       "12 Dana   Friday    0    1    0       15   1      \n",
       "13 Evelyn Friday    0    0    1        5   1      "
      ]
     },
     "metadata": {},
     "output_type": "display_data"
    }
   ],
   "source": [
    "customers"
   ]
  },
  {
   "cell_type": "markdown",
   "metadata": {},
   "source": [
    "If we had wanted to overwrite the `customers` dataset with the results of any of these operations, we simply would have had to add `customers <- ` at the beginning, just as we did when we were working with the `mutate()` function. Alternatively, we could have saved the results as a new data frame, by giving it a new name (`newname <- customers %>% arrange(...`)."
   ]
  },
  {
   "cell_type": "code",
   "execution_count": null,
   "metadata": {},
   "outputs": [],
   "source": []
  }
 ],
 "metadata": {
  "kernelspec": {
   "display_name": "R",
   "language": "R",
   "name": "ir"
  },
  "language_info": {
   "codemirror_mode": "r",
   "file_extension": ".r",
   "mimetype": "text/x-r-source",
   "name": "R",
   "pygments_lexer": "r",
   "version": "3.5.1"
  }
 },
 "nbformat": 4,
 "nbformat_minor": 2
}
