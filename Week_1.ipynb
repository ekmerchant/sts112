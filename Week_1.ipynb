{
 "cells": [
  {
   "cell_type": "markdown",
   "metadata": {},
   "source": [
    "# Week 1: Getting Started With R in Jupyter\n",
    "**Written by Professor Emily Klancher Merchant for STS 112, UC Davis, Winter 2019**\n",
    "## Introduction\n",
    "This is a Jupyter notebook, which is the format we will use in STS 112 to get started with R programming. Jupyter notebooks facilitate **literate programming,** which combines chunks of natural-language text (in this case, English), with chunks of executable code (in this case, R). In this class, we will start by working with Juypyter notebooks, which have the file extension `.ipynb`. As you work through the notebooks for the class, you will notice new terms in **bold** the first time they appear. This first notebook is very abstract, as its purpose is to introduce you to the capabilities of R and Jupyter notebooks. Don't worry if it doesn't all make sense right away, and don't worry about remembering everything.\n",
    "\n",
    "**Note:** If you find that you like working with Jupyter and want to install it on your own machine, you are in luck: Juptyter is free and open source, available as part of [Anaconda](https://anaconda.org/). However, the easiest way to work with R on your own machine is to download and install [R](https://cran.r-project.org/) and [RStudio](https://www.rstudio.com/), both of which are also free and open source (here is a [video](https://youtu.be/EmZqlcKkJMM) I made showing the installation process on a Mac). R also has its own version of notebooks, called [RMarkdown](https://rmarkdown.rstudio.com/).\n",
    "\n",
    "## Editing\n",
    "Each chunk of either text or code is called a **block**. The first thing you need to know how to do is edit a block. You can edit this one by double-clicking anywhere in it. Once you have done that, type some text below, and then hit `shift + return` (that is, hold down `shift` and hit `return`).\n",
    "\n"
   ]
  },
  {
   "cell_type": "markdown",
   "metadata": {},
   "source": [
    "What happened when you did that? First, you saw behind the scenes of the text block above. We will discuss that in a moment. Then, you edited the block by adding your own text. Finally, you **ran** the block by clicking `shift + return`. You can also run a block of text or code by clicking the `>|Run` button above. When you were editing that block, it was outlined in green. After you ran it, this block was selected, which you can tell because it is now outlined in blue. If you want to select a block without editing it, click on it once. You can add your own text block after this one. Make sure this block is selected, then click the `+` button above. Once you have done that, choose `Markdown` from the drop-down list. You can now type any text, and then run the block."
   ]
  },
  {
   "cell_type": "markdown",
   "metadata": {},
   "source": [
    "## What is Markdown?\n",
    "Markdown is a simple markup language. When you edit any text block, you are editing in markdown. If you double-click in this block, you will see that I made the heading by typing two hashtags (one hashtag would give me a larger heading and three would give me a smaller one). Here is [a link to an excellent markdown resource](https://www.markdownguide.org/), which I made using square brackets and parentheses. I made *this text italic* with a single asterisk at the beginning and the end, and I made **this text bold** with two asterisks at the beginning and the end. I made `this text look like code` by typing ``` (right under the escape key in the upper left of the keyboard) at the beginning and the end. Make a new text block below and try out your own markdown. Run your block to see the final result."
   ]
  },
  {
   "cell_type": "markdown",
   "metadata": {},
   "source": [
    "## Getting Started With R\n",
    "As you may have noticed, when you add a new block, it defaults to code. Our notebooks have what is called an **R kernel**, so when we write code, we will be using R, which is a high-level programming language typically used for statistics and data science. R is an **interpreted language**, which means that it is **executed** one line at a time. A code block that you write in a Jupyter notebook may be a single line or a series of lines. When you run a code block, all lines in the block will be sent to the interpreter, where they will be executed one at a time. You create a code block by selecting this block, then clicking the `+` button above and making sure `Code` is selected from the dropdown list.\n",
    "\n",
    "At its simplest, R is like a large calculator. You can see this by creating a new code block below, entering a mathematical expression, and running the block. When you do that, the R interpreter will execute your code, print the results (in this case the result of evaluating the mathematical expression) to the **console** (here the space under the code block), and move on to the next block."
   ]
  },
  {
   "cell_type": "markdown",
   "metadata": {},
   "source": [
    "What happens if you enter an incomplete mathematical expression?"
   ]
  },
  {
   "cell_type": "code",
   "execution_count": null,
   "metadata": {},
   "outputs": [],
   "source": [
    "2 +"
   ]
  },
  {
   "cell_type": "markdown",
   "metadata": {},
   "source": [
    "You may write text in a code block by prefacing it with `#`. The remainder of the line will not be interpreted. This is called a **comment**. What happens when you run the code block below?"
   ]
  },
  {
   "cell_type": "code",
   "execution_count": null,
   "metadata": {},
   "outputs": [],
   "source": [
    "#This is a comment."
   ]
  },
  {
   "cell_type": "markdown",
   "metadata": {},
   "source": [
    "What happens when you run the next block?"
   ]
  },
  {
   "cell_type": "code",
   "execution_count": null,
   "metadata": {},
   "outputs": [],
   "source": [
    "\"This is not a comment.\""
   ]
  },
  {
   "cell_type": "markdown",
   "metadata": {},
   "source": [
    "As you saw, nothing happened to the text that was **commented out** with the `#`. Any text encased in quotation marks will get printed verbatim to the console. If you try to run text that is not either commented out or encased in quotation marks, R will throw an error, unless you have previously assigned a value to the text (we will discuss this below).\n",
    "## Hello World\n",
    "Traditionally, the first thing one does when learning a new programming language is to write a program that prints the phrase \"hello world\" to the console. In R, that is exceptionally easy. Create a new code block below and write a line of code that prints \"hello world\" to the console."
   ]
  },
  {
   "cell_type": "markdown",
   "metadata": {},
   "source": [
    "## Working With Variables\n",
    "The real power in programming comes from creating and manipulating **variable**. A variable is simply an **object** yo create that takes the value you assign to it. Creating a variable is R is very easy: You simply type the name of the variable, the **assignment operator** (`<-` - less than followed by minus), and the value you want the variable to take. Run the code below."
   ]
  },
  {
   "cell_type": "code",
   "execution_count": null,
   "metadata": {},
   "outputs": [],
   "source": [
    "a <- 5"
   ]
  },
  {
   "cell_type": "markdown",
   "metadata": {},
   "source": [
    "Notice that nothing was printed to the console. Nonetheless, R created a variable called `a` that is equal to 5. How do we know this? We can use the `ls()` **function** to list all of the objects in our **working environment**. Run the code below."
   ]
  },
  {
   "cell_type": "code",
   "execution_count": null,
   "metadata": {},
   "outputs": [],
   "source": [
    "ls()"
   ]
  },
  {
   "cell_type": "markdown",
   "metadata": {},
   "source": [
    "This tells us that we currently have one object in our working environment, and that it is called `a`. We can see the value of `a` by simply entering its name, as below. Run the following code block."
   ]
  },
  {
   "cell_type": "code",
   "execution_count": null,
   "metadata": {},
   "outputs": [],
   "source": [
    "a"
   ]
  },
  {
   "cell_type": "markdown",
   "metadata": {},
   "source": [
    "The value of a variable does not need to be a number; it can also be the results of a mathematical expression. Run the code below to make a new variable."
   ]
  },
  {
   "cell_type": "code",
   "execution_count": null,
   "metadata": {},
   "outputs": [],
   "source": [
    "b <- 5 + 3"
   ]
  },
  {
   "cell_type": "markdown",
   "metadata": {},
   "source": [
    "What is the value of `b`?"
   ]
  },
  {
   "cell_type": "markdown",
   "metadata": {},
   "source": [
    "You can ask R to print the value of a variable as you create it by wrapping the whole expression in parentheses."
   ]
  },
  {
   "cell_type": "code",
   "execution_count": null,
   "metadata": {},
   "outputs": [],
   "source": [
    "(c <- 7)"
   ]
  },
  {
   "cell_type": "markdown",
   "metadata": {},
   "source": [
    "You can give a variable any name you want as long as it doesn't start with a number or include spaces or special characters. Let's clear out our working environment and create some new variables. You can clear the working environment with `rm(list = ls())`. Run the following code block."
   ]
  },
  {
   "cell_type": "code",
   "execution_count": null,
   "metadata": {},
   "outputs": [],
   "source": [
    "rm(list = ls())\n",
    "a <- 3\n",
    "b4 <- 5\n",
    "cat <- a + b4 - 1"
   ]
  },
  {
   "cell_type": "markdown",
   "metadata": {},
   "source": [
    "Use the `ls()` function to see what variables are currently in their environment, then check their values."
   ]
  },
  {
   "cell_type": "markdown",
   "metadata": {},
   "source": [
    "Now that we have created these variables, we can use them in mathematical expressions or, as you have seen, to create new variables. You can change the value of a variable any time you want, simply by reassigning it. Run the code below to see an example."
   ]
  },
  {
   "cell_type": "code",
   "execution_count": null,
   "metadata": {},
   "outputs": [],
   "source": [
    "(a <- 9)"
   ]
  },
  {
   "cell_type": "markdown",
   "metadata": {},
   "source": [
    "Create a new variable called `dog` that is equal to 12."
   ]
  },
  {
   "cell_type": "markdown",
   "metadata": {},
   "source": [
    "As well as addition and subtraction, we can use variables in multiplication, division, and exponentiation:"
   ]
  },
  {
   "cell_type": "code",
   "execution_count": null,
   "metadata": {},
   "outputs": [],
   "source": [
    "cat*dog\n",
    "cat/dog\n",
    "cat**2\n",
    "dog/cat*cat"
   ]
  },
  {
   "cell_type": "markdown",
   "metadata": {},
   "source": [
    "You can also create variables whose value is a text string. The string must be wrapped in quotation marks, even if it is only a single word. Run the code below."
   ]
  },
  {
   "cell_type": "code",
   "execution_count": null,
   "metadata": {},
   "outputs": [],
   "source": [
    "g <- \"coding is\"\n",
    "hi <- \"fun\""
   ]
  },
  {
   "cell_type": "markdown",
   "metadata": {},
   "source": [
    "We can combine text strings, but not with mathematical operators. Note that the following code does not work."
   ]
  },
  {
   "cell_type": "code",
   "execution_count": null,
   "metadata": {},
   "outputs": [],
   "source": [
    "g + hi"
   ]
  },
  {
   "cell_type": "markdown",
   "metadata": {},
   "source": [
    "To combine the two strings, we need to use the `paste()` function. As you may have noticed by now, functions are denoted with a set of parentheses. The text before the parentheses is the name of the function; the **arguments** to the function go inside the parentheses, separated bty commas. The `ls()` function did not take any arguments. The arguments to the `paste()` function are the strings that you want to combine. Run the code below to see how it works."
   ]
  },
  {
   "cell_type": "code",
   "execution_count": null,
   "metadata": {},
   "outputs": [],
   "source": [
    "paste(g, hi)"
   ]
  },
  {
   "cell_type": "markdown",
   "metadata": {},
   "source": [
    "The `paste()` function can take any number of arguments, and also has an optional final argument, which tells the function how to separate the strings you are combining. The default is a space, but you can make it anything with the `sep=` argument. Try running the examples below:"
   ]
  },
  {
   "cell_type": "code",
   "execution_count": null,
   "metadata": {},
   "outputs": [],
   "source": [
    "paste(g, hi, sep=\"\")\n",
    "paste(g, hi, sep=\",\")\n",
    "paste(g, hi, sep=\" not \")"
   ]
  },
  {
   "cell_type": "markdown",
   "metadata": {},
   "source": [
    "Note that R does not care whether the resulting expression is gramatically correct or true. Note also that you may need to use spaces around whatever you are using to separate your strings. There are many other [string functions](https://www.r-bloggers.com/string-functions-in-r/) you can use in R. Two more that we will try right now are the `toupper()` and `tolower()` functions, which change the case of your string. Since our strings are already in lower case, let's try `toupper()`."
   ]
  },
  {
   "cell_type": "code",
   "execution_count": null,
   "metadata": {},
   "outputs": [],
   "source": [
    "toupper(hi)"
   ]
  },
  {
   "cell_type": "markdown",
   "metadata": {},
   "source": [
    "We can also combine string functions."
   ]
  },
  {
   "cell_type": "code",
   "execution_count": null,
   "metadata": {},
   "outputs": [],
   "source": [
    "toupper(paste(g, hi))\n",
    "tolower(toupper(hi))"
   ]
  },
  {
   "cell_type": "markdown",
   "metadata": {},
   "source": [
    "What happened in the code block above?"
   ]
  },
  {
   "cell_type": "markdown",
   "metadata": {},
   "source": [
    "Create a new code block below to make some of your own string variables and manipulate them with string functions."
   ]
  },
  {
   "cell_type": "markdown",
   "metadata": {},
   "source": [
    "## Data Types\n",
    "So far, we have made two different **types** of variables: numeric and character. If we ever want to know the type of a variable, we can use the `typeof()` function. Its argument is the variable in question, and it returns the type of the variable. Run the following code."
   ]
  },
  {
   "cell_type": "code",
   "execution_count": null,
   "metadata": {},
   "outputs": [],
   "source": [
    "typeof(a)\n",
    "typeof(g)"
   ]
  },
  {
   "cell_type": "markdown",
   "metadata": {},
   "source": [
    "These types indicate how R is storing the data contained in the variables: **double** refers to a number that can have decimals; **character** refers to a text string. Run the following code block."
   ]
  },
  {
   "cell_type": "code",
   "execution_count": null,
   "metadata": {},
   "outputs": [],
   "source": [
    "(twelve <- \"12\")\n",
    "typeof(twelve)"
   ]
  },
  {
   "cell_type": "markdown",
   "metadata": {},
   "source": [
    "Explain what is happening above."
   ]
  },
  {
   "cell_type": "markdown",
   "metadata": {},
   "source": [
    "Since the variable `twelve` looks like a number, can we convert it to one? Yes!"
   ]
  },
  {
   "cell_type": "code",
   "execution_count": null,
   "metadata": {},
   "outputs": [],
   "source": [
    "as.numeric(twelve)\n",
    "typeof(as.numeric(twelve))"
   ]
  },
  {
   "cell_type": "markdown",
   "metadata": {},
   "source": [
    "Note that we did not change the type of the variable `twelve`, we only expressed it as a number. We could have changed it by reassigning the variable like this: `twelve <- as.numeric(twelve)`. Numeric variables can be converted to character variables (using either the `as.numeric()` function or the `toString()` function), but character variables can't be converted to numeric variables unless they consist only of numerals."
   ]
  },
  {
   "cell_type": "code",
   "execution_count": null,
   "metadata": {},
   "outputs": [],
   "source": [
    "(ten <- 10)\n",
    "typeof(ten)\n",
    "(ten <- as.character(ten))\n",
    "typeof(ten)\n",
    "(ten <- as.numeric(ten))\n",
    "typeof(ten)"
   ]
  },
  {
   "cell_type": "markdown",
   "metadata": {},
   "source": [
    "Explain what happened in the code block above. How could we have known the type of variable `ten` without using the `typeof()` function?"
   ]
  },
  {
   "cell_type": "markdown",
   "metadata": {},
   "source": [
    "There is one more data type that we will cover at this point, called **logical**. A logical variable can take one of two values: `TRUE` or `FALSE`. Run the code below to see this in action."
   ]
  },
  {
   "cell_type": "code",
   "execution_count": null,
   "metadata": {},
   "outputs": [],
   "source": [
    "newvariable <- 2 == 5 - 3\n",
    "anothernewvariable <- 2 != 5 - 3\n",
    "newvariable\n",
    "anothernewvariable\n",
    "typeof(newvariable)\n",
    "typeof(anothernewvariable)"
   ]
  },
  {
   "cell_type": "markdown",
   "metadata": {},
   "source": [
    "Explain what happened in the code block above."
   ]
  },
  {
   "cell_type": "markdown",
   "metadata": {},
   "source": [
    "The logical data type is created with **Boolean** operators. These are equal `==`, not equal `!=`, less than `<`, less than or equal to `<=`, greater than `>`, and greater than or equal to `>=`."
   ]
  },
  {
   "cell_type": "markdown",
   "metadata": {},
   "source": [
    "## Vectors and Lists\n",
    "You can combine variables into vectors with the `c()` function, and those vectors can also be saved as variables. All vectors in a function must be of the same type. So we can have a vector of doubles, a vector of characters, or a vector of logcials. If you run the `typeof()` function on a vector, R will return the data type of the vector's elements. In the code block below, the variable `vec_a` is a vector containing the numeric variables `a`, `b4`, `cat`, and `dog`. The variable `vec_b` is a vector containing the character variables `g` and `hi`."
   ]
  },
  {
   "cell_type": "code",
   "execution_count": null,
   "metadata": {},
   "outputs": [],
   "source": [
    "(vec_a <- c(a, b4, cat, dog))\n",
    "(vec_b <- c(g, hi))\n",
    "typeof(vec_a)\n",
    "typeof(vec_b)"
   ]
  },
  {
   "cell_type": "markdown",
   "metadata": {},
   "source": [
    "You can do mathematical operations on numeric vectors. This will be important later. Run the code block below to see some examples."
   ]
  },
  {
   "cell_type": "code",
   "execution_count": null,
   "metadata": {},
   "outputs": [],
   "source": [
    "vec_a * 2\n",
    "vec_a - 1\n",
    "sum(vec_a)"
   ]
  },
  {
   "cell_type": "markdown",
   "metadata": {},
   "source": [
    "You can reference any element of a vector using the name of the vector variable followed by the element number in square brackets."
   ]
  },
  {
   "cell_type": "code",
   "execution_count": null,
   "metadata": {},
   "outputs": [],
   "source": [
    "vec_a[2]"
   ]
  },
  {
   "cell_type": "markdown",
   "metadata": {},
   "source": [
    "You can also use the `paste()` function to combine elements of a vector, but with the `collapse` argument rather than the `sep` argument. If you use this function on a numeric vector, R will turn the elements into characters before combining them."
   ]
  },
  {
   "cell_type": "code",
   "execution_count": null,
   "metadata": {},
   "outputs": [],
   "source": [
    "paste(vec_b, collapse=\" \")\n",
    "paste(vec_a, collapse=\" \")"
   ]
  },
  {
   "cell_type": "markdown",
   "metadata": {},
   "source": [
    "If you try to create a vector where some elements are numbers and some are characters, R will turn all of them into characters."
   ]
  },
  {
   "cell_type": "code",
   "execution_count": null,
   "metadata": {},
   "outputs": [],
   "source": [
    "(vec_c <- c(1, 2, \"fifteen\", \"twenty\"))\n",
    "typeof(vec_c)"
   ]
  },
  {
   "cell_type": "markdown",
   "metadata": {},
   "source": [
    "Note that we created vec_c from numbers and words, not from variables we had already made. If we want to combine different types of data and preserve their original types, we can make a list with the `list()` function. A list is another data type."
   ]
  },
  {
   "cell_type": "code",
   "execution_count": null,
   "metadata": {},
   "outputs": [],
   "source": [
    "(list_a <- list(a, b4, g))\n",
    "typeof(list_a)"
   ]
  },
  {
   "cell_type": "markdown",
   "metadata": {},
   "source": [
    "We can reference any element of a list with the name of the list variable and the number of the element in double square brackets."
   ]
  },
  {
   "cell_type": "code",
   "execution_count": null,
   "metadata": {},
   "outputs": [],
   "source": [
    "list_a[[3]]\n",
    "typeof(list_a[[3]])"
   ]
  },
  {
   "cell_type": "markdown",
   "metadata": {},
   "source": [
    "Lists can also contain vectors and other lists."
   ]
  },
  {
   "cell_type": "code",
   "execution_count": null,
   "metadata": {},
   "outputs": [],
   "source": [
    "(list_b <- list(1, 3, list_a, vec_b, 2, vec_a))\n",
    "typeof(list_b[[3]])\n",
    "typeof(list_b[[6]])\n",
    "list_b[[3]][[2]]"
   ]
  },
  {
   "cell_type": "markdown",
   "metadata": {},
   "source": [
    "## Data Frames\n",
    "The data type we will be working with most in this class is the data frame. A data frame is an array of vectors where each vector has the same number of elements. The vectors that comprise the data frame can be numeric, character, or some of each. \n",
    "\n",
    "To understand data frames, imagine you are running a day care center for pets. You take dogs, cats, and rabbits. The following code makes a series of vectors: `days` lists the days of the week; `dogs` lists the number of dogs you cared for on each day of the week (`dogs[1]` is the number of dogs you had on Monday, `dogs[2]` is the number of dogs you had on Tuesday, etc.); `cats` lists the number of cats you cared for each day; `rabbits` lists the number of rabbits you cared for each day."
   ]
  },
  {
   "cell_type": "code",
   "execution_count": null,
   "metadata": {},
   "outputs": [],
   "source": [
    "days <- c(\"Monday\", \"Tuesday\", \"Wednesday\", \"Thursday\", \"Friday\")\n",
    "dogs <- c(4, 3, 4, 2, 4)\n",
    "cats <- c(1, 2, 1, 1, 2)\n",
    "rabbits <- c(0, 1, 1, 0, 1)"
   ]
  },
  {
   "cell_type": "markdown",
   "metadata": {},
   "source": [
    "We can now use the `data.frame()` function to convert these vectors into a data frame called `pets`."
   ]
  },
  {
   "cell_type": "code",
   "execution_count": null,
   "metadata": {},
   "outputs": [],
   "source": [
    "pets <- data.frame(days, dogs, cats, rabbits)"
   ]
  },
  {
   "cell_type": "markdown",
   "metadata": {},
   "source": [
    "Since this is a small data frame, we can view it directly, the same way we would view any other variable."
   ]
  },
  {
   "cell_type": "code",
   "execution_count": null,
   "metadata": {},
   "outputs": [],
   "source": [
    "pets"
   ]
  },
  {
   "cell_type": "markdown",
   "metadata": {},
   "source": [
    "Note that the names of the vectors that comprise the data frame are now the names of the columns in the data frame. There are numerous ways of accessing the data in a data frame. You can reference a single value: `pets[2,3]` references the second row, third column, which is the number of cats on Tuesday (2). You can reference a whole column in two different ways: `pets$cats` and `pets[,3]` will both give you the `cats` vector. You can also reference whole rows: `pets[2,]` will give you the row for Tuesday. You can reference a subset of rows or columns: `pets[,2:4]` will give you columns 2-4 (`dogs`, `cats`, `rabbits`); `pets[,2:4]` will give you rows 2-4 (Tuesday, Wednesday, Thursday). You can see the column names with the `names()` function. Create a new code block below and try all of the examples listed in this text block."
   ]
  },
  {
   "cell_type": "markdown",
   "metadata": {},
   "source": [
    "We can also create new columns in the data frame. For example, say we wanted a new column indicating the total number of animals on each day. We do it as if we were making a new variable, but using the `dataframe$column` notation."
   ]
  },
  {
   "cell_type": "code",
   "execution_count": null,
   "metadata": {},
   "outputs": [],
   "source": [
    "pets$total <- pets$dogs + pets$cats + pets$rabbits\n",
    "pets"
   ]
  },
  {
   "cell_type": "markdown",
   "metadata": {},
   "source": [
    "Now let's make another data frame. This one will have one row per customer for each day the customer brought in animals. Columns will list customer's name, day of the week, number of dogs, number of cats, and number of rabbits. The following code block contains the data for each column of the data frame."
   ]
  },
  {
   "cell_type": "code",
   "execution_count": null,
   "metadata": {},
   "outputs": [],
   "source": [
    "name <- c(\"Al\", \"Bob\", \"Al\", \"Carmen\", \"Dana\", \"Al\", \"Bob\", \"Dana\", \"Al\", \"Al\", \"Bob\", \"Dana\", \"Evelyn\")\n",
    "day <- c(\"Monday\", \"Monday\", \"Tuesday\", \"Tuesday\", \"Tuesday\", \"Wednesday\", \"Wednesday\", \"Wednesday\", \"Thursday\", \"Friday\", \"Friday\", \"Friday\", \"Friday\")\n",
    "dogs <- c(2, 2, 2, 1, 0, 2, 2, 0, 2, 2, 2, 0, 0)\n",
    "cats <- c(1, 0, 1, 0, 1, 1, 0, 0, 1, 1, 0, 1, 0)\n",
    "rabbits <- c(0, 0, 0, 0, 1, 0, 0, 1, 0, 0, 0, 0, 1)"
   ]
  },
  {
   "cell_type": "markdown",
   "metadata": {},
   "source": [
    "Create a code block below that transforms the vectors `name`, `day`, `dogs`, `cats`, and `rabbits` into a data frame called `customers` and display the data frame."
   ]
  },
  {
   "cell_type": "code",
   "execution_count": null,
   "metadata": {},
   "outputs": [],
   "source": [
    "customers <- data.frame(name, day, dogs, cats, rabbits)\n",
    "customers"
   ]
  },
  {
   "cell_type": "markdown",
   "metadata": {},
   "source": [
    "Now let's calculate how much we are going to bill each customer on each day. We charge `$20` per day for dogs, `$15` for cats, and `$5` for rabbits. Create a new column in the data frame called `bill` that indicates how much we will charge each customer each day."
   ]
  },
  {
   "cell_type": "markdown",
   "metadata": {},
   "source": [
    "At the end of the week, Al and Bob complain that they are spending too much on day care for their pets. You want to keep their business and you don't want their animals to be home alone all day, so you consider implementing a discount: 10% off each day a person brings in at least two two pets. To calculate their new bill, we will need to use the `ifelse()` function. This function takes three variables: the condition you are testing, what will be done if the test is true, and what will be done if the test is false. In this case, the condition we are testing is whether or not a customer brought in at least two pets on a given day (`customers$cats + customers$dogs + customers$rabbits > 1`). If it is true, we want to reduce the bill by 10% (`customers$bill * 0.9`). If it is false, we want to keep the amount of the bill the same. In the code block below, we use the `ifelse()` function to create a column called `newbill()` that indicates each customer's discounted bill."
   ]
  },
  {
   "cell_type": "code",
   "execution_count": null,
   "metadata": {},
   "outputs": [],
   "source": [
    "customers$newbill <- ifelse(customers$cats + customers$dogs + customers$rabbits > 1, customers$bill * 0.9, customers$bill)\n",
    "customers"
   ]
  },
  {
   "cell_type": "markdown",
   "metadata": {},
   "source": [
    "We can also nest `ifelse()` functions. In the code block below, we use two nested `ifelse()` functions to give customers 10% off if they bring in two pets and 15% off if they bring in three or more pets."
   ]
  },
  {
   "cell_type": "code",
   "execution_count": null,
   "metadata": {},
   "outputs": [],
   "source": [
    "customers$newbill <- ifelse(customers$cats + customers$dogs + customers$rabbits > 2, customers$bill * 0.9,\n",
    "            ifelse(customers$cats + customers$dogs + customers$rabbits > 1, customers$bill *0.85, customers$bill))\n",
    "customers"
   ]
  },
  {
   "cell_type": "markdown",
   "metadata": {},
   "source": [
    "Describe what happened in the code block above."
   ]
  },
  {
   "cell_type": "markdown",
   "metadata": {},
   "source": [
    "## Dplyr\n",
    "That's a lot of typing! Fortunately, there is a package called `dplyr` that makes manipulating data frames much easier (think of it as a pair of pliers for working with a data frame). In order to use external packages, we must install and load them. Installation has already happened in our working environment, so we just have to load dplyr with the command `library(dplyr)`."
   ]
  },
  {
   "cell_type": "code",
   "execution_count": null,
   "metadata": {},
   "outputs": [],
   "source": [
    "library(dplyr)"
   ]
  },
  {
   "cell_type": "markdown",
   "metadata": {},
   "source": [
    "Dplyr contains several functions that make it very easy to manipulate data frames. The first one we will use is `mutate()` which creates a new column. There are two ways to use dplyr functions. The first is with the name of the data frame as the first argument to the function. The second and more straightforward is with pipes (`%>%`). Let's go back to our original customers data frame. We will use the first method to calculate the bill and the second to calculate the total number of animals per customer per day."
   ]
  },
  {
   "cell_type": "code",
   "execution_count": null,
   "metadata": {},
   "outputs": [],
   "source": [
    "customers <- data.frame(name, day, dogs, cats, rabbits)\n",
    "\n",
    "#First way:\n",
    "customers <- mutate(customers, bill = dogs * 20 + cats * 15 + rabbits * 5)\n",
    "\n",
    "#Second way:\n",
    "customers <- customers %>% mutate(animals = dogs + cats + rabbits)\n",
    "\n",
    "customers"
   ]
  },
  {
   "cell_type": "markdown",
   "metadata": {},
   "source": [
    "Do you see the difference between the two approaches above? Note that we can make as many new columns as we want with a single `mutate()` function. In the code block below, we will make both new columns (`bills` and `animals`) at the same time. Notice that we are making the data frame from its component vectors and then piping it into the `mutate()` function all in one command."
   ]
  },
  {
   "cell_type": "code",
   "execution_count": null,
   "metadata": {},
   "outputs": [],
   "source": [
    "customers <- data.frame(name, day, dogs, cats, rabbits) %>% \n",
    "                mutate(bill = dogs * 20 + cats * 15 + rabbits * 5, animals = dogs + cats + rabbits)\n",
    "customers"
   ]
  },
  {
   "cell_type": "markdown",
   "metadata": {},
   "source": [
    "Now we will calculate the discounted bill using the `ifelse()` function together with the `mutate()` function. Note that this is exactly the same as what we did before, but we are now using the new column `animals` instead of adding the number of dogs, cats, and rabbits."
   ]
  },
  {
   "cell_type": "code",
   "execution_count": null,
   "metadata": {},
   "outputs": [],
   "source": [
    "customers <- customers %>% mutate(newbill = ifelse(animals > 2, bill * 0.9, ifelse(animals > 1, bill * 0.85, bill)))\n",
    "customers"
   ]
  },
  {
   "cell_type": "markdown",
   "metadata": {},
   "source": [
    "Explain what we just did."
   ]
  },
  {
   "cell_type": "markdown",
   "metadata": {},
   "source": [
    "There are three other tidyverse functions you will need to do this week's lab: `arrange()`, `select()`, and `filter()`. You can use `arrange()` to organize your data frame in ascending or descending order on the basis of one or more columns. For example, we can arrange our data alphabetically by customer:"
   ]
  },
  {
   "cell_type": "code",
   "execution_count": null,
   "metadata": {},
   "outputs": [],
   "source": [
    "customers %>% arrange(name)"
   ]
  },
  {
   "cell_type": "markdown",
   "metadata": {},
   "source": [
    "Within the record for each customer, we can also organize by number of animals brought in each day:"
   ]
  },
  {
   "cell_type": "code",
   "execution_count": null,
   "metadata": {},
   "outputs": [],
   "source": [
    "customers %>% arrange(name, animals)"
   ]
  },
  {
   "cell_type": "markdown",
   "metadata": {},
   "source": [
    "We can do the same thing in descending order of number of animals (this really only makes a difference for Dana, who brings her rabbit on Wednesday and her cat on Friday and both on Tuesday):"
   ]
  },
  {
   "cell_type": "code",
   "execution_count": null,
   "metadata": {},
   "outputs": [],
   "source": [
    "customers %>% arrange(name, -animals)"
   ]
  },
  {
   "cell_type": "markdown",
   "metadata": {},
   "source": [
    "The `filter()` function allows us to see only the rows where a certain condition is true. For example, say we only wanted to see the records for Bob:"
   ]
  },
  {
   "cell_type": "code",
   "execution_count": null,
   "metadata": {},
   "outputs": [],
   "source": [
    "customers %>% filter(name == \"Bob\")"
   ]
  },
  {
   "cell_type": "markdown",
   "metadata": {},
   "source": [
    "What if we wanted to see everyone except Bob? Add a code block below to do that."
   ]
  },
  {
   "cell_type": "markdown",
   "metadata": {},
   "source": [
    "The `select()` function allows us to see only a subset of the columns. For example, if we just wanted to see name, day of the week, and total number of animals for each customer, there are two ways to do it:"
   ]
  },
  {
   "cell_type": "code",
   "execution_count": null,
   "metadata": {},
   "outputs": [],
   "source": [
    "#First way:\n",
    "customers %>% select(name, day, animals)\n",
    "\n",
    "#Second way:\n",
    "customers %>% select(-dogs, -cats, -rabbits, -bill, -newbill)"
   ]
  },
  {
   "cell_type": "markdown",
   "metadata": {},
   "source": [
    "Note that when we were working with `arrange()`, `filter()`, and `select()` in the code blocks above, we did not change the `customers` data frame: we only viewed the results of our actions. As you can see, the `customers` data set remains as it previously was:"
   ]
  },
  {
   "cell_type": "code",
   "execution_count": null,
   "metadata": {},
   "outputs": [],
   "source": [
    "customers"
   ]
  },
  {
   "cell_type": "markdown",
   "metadata": {},
   "source": [
    "If we had wanted to overwrite the `customers` dataset with the results of any of these operations, we simply would have had to add `customers <- ` at the beginning, just as we did when we were working with the `mutate()` function. Alternatively, we could have saved the results as a new data frame, by giving it a new name (`newname <- customers %>% arrange(...`)."
   ]
  },
  {
   "cell_type": "markdown",
   "metadata": {},
   "source": [
    "You now have all the tools you need to complete this week's lab assignment!"
   ]
  },
  {
   "cell_type": "code",
   "execution_count": null,
   "metadata": {},
   "outputs": [],
   "source": []
  }
 ],
 "metadata": {
  "kernelspec": {
   "display_name": "R",
   "language": "R",
   "name": "ir"
  },
  "language_info": {
   "codemirror_mode": "r",
   "file_extension": ".r",
   "mimetype": "text/x-r-source",
   "name": "R",
   "pygments_lexer": "r",
   "version": "3.5.1"
  }
 },
 "nbformat": 4,
 "nbformat_minor": 2
}
